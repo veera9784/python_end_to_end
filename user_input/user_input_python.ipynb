{
  "nbformat": 4,
  "nbformat_minor": 0,
  "metadata": {
    "colab": {
      "provenance": []
    },
    "kernelspec": {
      "name": "python3",
      "display_name": "Python 3"
    },
    "language_info": {
      "name": "python"
    }
  },
  "cells": [
    {
      "cell_type": "code",
      "execution_count": 1,
      "metadata": {
        "colab": {
          "base_uri": "https://localhost:8080/"
        },
        "id": "4nT1_2t06hnt",
        "outputId": "da374a9a-9a0e-4a4c-fad0-88ee204ae61b"
      },
      "outputs": [
        {
          "name": "stdout",
          "output_type": "stream",
          "text": [
            "enter a numberb  4879\n"
          ]
        }
      ],
      "source": [
        "user =input('enter a numberb  ')"
      ]
    },
    {
      "cell_type": "code",
      "source": [
        "#adding two numbers with this user input\n",
        "\n",
        "a=input('enter a number a  ')\n",
        "b=input('enter a number  b ')\n",
        "\n",
        "print(a+b)"
      ],
      "metadata": {
        "colab": {
          "base_uri": "https://localhost:8080/"
        },
        "id": "NnckoMuH7LQd",
        "outputId": "646ac478-0752-44cd-aba1-0ee0dbc2ce92"
      },
      "execution_count": 3,
      "outputs": [
        {
          "output_type": "stream",
          "name": "stdout",
          "text": [
            "enter a number a  4\n",
            "enter a number  b 5\n",
            "45\n"
          ]
        }
      ]
    },
    {
      "cell_type": "code",
      "source": [
        "#user input by default it takes the iput as string\n",
        "a=int(input('enter a number  '))\n",
        "b= int(input('enter a number  '))\n",
        "\n",
        "print(a+b)\n"
      ],
      "metadata": {
        "colab": {
          "base_uri": "https://localhost:8080/"
        },
        "id": "nmHq8H7J7llF",
        "outputId": "25e513c8-bab0-46d9-eea3-4021ffd66e4e"
      },
      "execution_count": 4,
      "outputs": [
        {
          "output_type": "stream",
          "name": "stdout",
          "text": [
            "enter a number  5\n",
            "enter a number  6\n",
            "11\n"
          ]
        }
      ]
    },
    {
      "cell_type": "code",
      "source": [],
      "metadata": {
        "id": "NdCJe8aV8Uhz"
      },
      "execution_count": null,
      "outputs": []
    }
  ]
}