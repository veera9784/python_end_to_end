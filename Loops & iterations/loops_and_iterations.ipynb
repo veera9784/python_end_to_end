{
  "nbformat": 4,
  "nbformat_minor": 0,
  "metadata": {
    "colab": {
      "provenance": []
    },
    "kernelspec": {
      "name": "python3",
      "display_name": "Python 3"
    },
    "language_info": {
      "name": "python"
    }
  },
  "cells": [
    {
      "cell_type": "code",
      "execution_count": null,
      "metadata": {
        "id": "PWoEWOuDFw2U"
      },
      "outputs": [],
      "source": [
        "#loops are like the block of code which executes repeatedly\n",
        "#in some situations we have to write the code multiple time but\n",
        "#this loops redece that kind of burdern\n"
      ]
    },
    {
      "cell_type": "code",
      "source": [
        "#in python we have two types of loops mainly:\n",
        "#1.for loop\n",
        "#2.while loop\n"
      ],
      "metadata": {
        "id": "kQOr_WXeGbC7"
      },
      "execution_count": null,
      "outputs": []
    },
    {
      "cell_type": "code",
      "source": [
        "#for loop\n",
        "\n",
        "#python for loops are used to loop through the iterable object(like list,tuple,set etc)\n",
        "#and perform the same action for each entry\n",
        "#\n",
        "#for loop is allows you to iterate through a list\n",
        "#performing the same action on the list"
      ],
      "metadata": {
        "id": "SYoffxt1GpmX"
      },
      "execution_count": null,
      "outputs": []
    },
    {
      "cell_type": "code",
      "source": [
        "#while loop\n",
        "#while loop is some what similar to the if atatement\n",
        "#it excutes the code inside it if condition is true\n",
        "#while loop continues to execute the code repeatedly as long as condition is true"
      ],
      "metadata": {
        "id": "zQGeUBBYHXnu"
      },
      "execution_count": null,
      "outputs": []
    },
    {
      "cell_type": "code",
      "source": [
        "#for loop\n"
      ],
      "metadata": {
        "id": "TXs4FT_VH5w7"
      },
      "execution_count": null,
      "outputs": []
    },
    {
      "cell_type": "code",
      "source": [
        "cities =['pune',\"mumbai\",\"chennai\",\"nagpur\",\"babglore\"]\n",
        "print(cities)"
      ],
      "metadata": {
        "colab": {
          "base_uri": "https://localhost:8080/"
        },
        "id": "B0JWXw7EIFb_",
        "outputId": "1e98427e-f1f0-4555-c143-66a5b134ece6"
      },
      "execution_count": null,
      "outputs": [
        {
          "output_type": "stream",
          "name": "stdout",
          "text": [
            "['pune', 'mumbai', 'chennai', 'nagpur', 'babglore']\n"
          ]
        }
      ]
    },
    {
      "cell_type": "code",
      "source": [
        "for gurwinder in cities:\n",
        "  print(gurwinder)"
      ],
      "metadata": {
        "colab": {
          "base_uri": "https://localhost:8080/"
        },
        "id": "Am00heRNINgV",
        "outputId": "e62973d1-09c5-4ef7-b88c-97d00aef9e21"
      },
      "execution_count": null,
      "outputs": [
        {
          "output_type": "stream",
          "name": "stdout",
          "text": [
            "pune\n",
            "mumbai\n",
            "chennai\n",
            "nagpur\n",
            "babglore\n"
          ]
        }
      ]
    },
    {
      "cell_type": "code",
      "source": [
        "for i in cities:\n",
        "  print(i)"
      ],
      "metadata": {
        "colab": {
          "base_uri": "https://localhost:8080/"
        },
        "id": "nE8LG573IaVF",
        "outputId": "b9adfcb4-b82a-4a5c-8e0e-f10dd65de99f"
      },
      "execution_count": null,
      "outputs": [
        {
          "output_type": "stream",
          "name": "stdout",
          "text": [
            "pune\n",
            "mumbai\n",
            "chennai\n",
            "nagpur\n",
            "babglore\n"
          ]
        }
      ]
    },
    {
      "cell_type": "code",
      "source": [
        "for i in range(1,11):\n",
        "  print(i)"
      ],
      "metadata": {
        "colab": {
          "base_uri": "https://localhost:8080/"
        },
        "id": "fOaz97-4I8i3",
        "outputId": "4936c2c6-10df-4944-8f11-23ab3c8c88f9"
      },
      "execution_count": null,
      "outputs": [
        {
          "output_type": "stream",
          "name": "stdout",
          "text": [
            "1\n",
            "2\n",
            "3\n",
            "4\n",
            "5\n",
            "6\n",
            "7\n",
            "8\n",
            "9\n",
            "10\n"
          ]
        }
      ]
    },
    {
      "cell_type": "code",
      "source": [
        "#tomorrow we have to continue from here\n",
        "#21 dec 2023 we have to start from here"
      ],
      "metadata": {
        "id": "1_PTPtw3JOoj"
      },
      "execution_count": null,
      "outputs": []
    },
    {
      "cell_type": "code",
      "source": [
        "n=10\n",
        "m=20\n",
        "if n>10:\n",
        "\n",
        "   if m>9:\n",
        "\n",
        "     print('second statment is ture')\n",
        "else:\n",
        "\n",
        "    print('third statement is true')"
      ],
      "metadata": {
        "colab": {
          "base_uri": "https://localhost:8080/"
        },
        "id": "xCkbnXPdK4Si",
        "outputId": "2807bc68-4e19-4630-8e0f-62bcabcc9477"
      },
      "execution_count": null,
      "outputs": [
        {
          "output_type": "stream",
          "name": "stdout",
          "text": [
            "third statement is true\n"
          ]
        }
      ]
    },
    {
      "cell_type": "code",
      "source": [
        "n=9\n",
        "m=20\n",
        "if n<10:\n",
        "\n",
        "   if m>9:\n",
        "\n",
        "     print('second statment is ture')\n",
        "else:\n",
        "\n",
        "    print('third statement is true')"
      ],
      "metadata": {
        "id": "yZMVjpxwLvSv",
        "colab": {
          "base_uri": "https://localhost:8080/"
        },
        "outputId": "ab40dafa-c428-4f29-c83b-cea799cee46a"
      },
      "execution_count": null,
      "outputs": [
        {
          "output_type": "stream",
          "name": "stdout",
          "text": [
            "second statment is ture\n"
          ]
        }
      ]
    },
    {
      "cell_type": "code",
      "source": [],
      "metadata": {
        "id": "hLjfqygANLcO"
      },
      "execution_count": null,
      "outputs": []
    },
    {
      "cell_type": "code",
      "source": [
        "for i in range(1,11):\n",
        "  print('gurwinder')"
      ],
      "metadata": {
        "colab": {
          "base_uri": "https://localhost:8080/"
        },
        "id": "_HVXmn2ZNXs9",
        "outputId": "1b8b5ba7-56c8-4068-af54-1753a90b6927"
      },
      "execution_count": null,
      "outputs": [
        {
          "output_type": "stream",
          "name": "stdout",
          "text": [
            "gurwinder\n",
            "gurwinder\n",
            "gurwinder\n",
            "gurwinder\n",
            "gurwinder\n",
            "gurwinder\n",
            "gurwinder\n",
            "gurwinder\n",
            "gurwinder\n",
            "gurwinder\n"
          ]
        }
      ]
    },
    {
      "cell_type": "code",
      "source": [
        "for i in range(1,11):\n",
        "  print(\"hello hii\")"
      ],
      "metadata": {
        "colab": {
          "base_uri": "https://localhost:8080/"
        },
        "id": "uxpRoVr7N8aO",
        "outputId": "a1e3878a-0bae-4c67-8001-4f1f35e902dd"
      },
      "execution_count": null,
      "outputs": [
        {
          "output_type": "stream",
          "name": "stdout",
          "text": [
            "hello hii\n",
            "hello hii\n",
            "hello hii\n",
            "hello hii\n",
            "hello hii\n",
            "hello hii\n",
            "hello hii\n",
            "hello hii\n",
            "hello hii\n",
            "hello hii\n"
          ]
        }
      ]
    },
    {
      "cell_type": "code",
      "source": [
        "#enumurate\n"
      ],
      "metadata": {
        "id": "AJ1ez9M2OSW0"
      },
      "execution_count": null,
      "outputs": []
    },
    {
      "cell_type": "code",
      "source": [
        "for i in enumerate(range(1,11)):\n",
        "  print(i)"
      ],
      "metadata": {
        "colab": {
          "base_uri": "https://localhost:8080/"
        },
        "id": "4OWAhGoVOx-O",
        "outputId": "f3eac2f0-8898-4283-9f9b-a4420688cd5f"
      },
      "execution_count": null,
      "outputs": [
        {
          "output_type": "stream",
          "name": "stdout",
          "text": [
            "(0, 1)\n",
            "(1, 2)\n",
            "(2, 3)\n",
            "(3, 4)\n",
            "(4, 5)\n",
            "(5, 6)\n",
            "(6, 7)\n",
            "(7, 8)\n",
            "(8, 9)\n",
            "(9, 10)\n"
          ]
        }
      ]
    },
    {
      "cell_type": "code",
      "source": [
        "my_list=['gurwinder',\"meena\",\"canada\"]\n",
        "print(my_list)"
      ],
      "metadata": {
        "colab": {
          "base_uri": "https://localhost:8080/"
        },
        "id": "leNcRmUSO6lf",
        "outputId": "e6533c15-2e1d-4329-96ab-d7992018e411"
      },
      "execution_count": null,
      "outputs": [
        {
          "output_type": "stream",
          "name": "stdout",
          "text": [
            "['gurwinder', 'meena', 'canada']\n"
          ]
        }
      ]
    },
    {
      "cell_type": "code",
      "source": [
        "my_list*2"
      ],
      "metadata": {
        "colab": {
          "base_uri": "https://localhost:8080/"
        },
        "id": "Orr3Z3wxROIG",
        "outputId": "cbb147ee-72fb-43aa-96ea-e870fe533b10"
      },
      "execution_count": null,
      "outputs": [
        {
          "output_type": "execute_result",
          "data": {
            "text/plain": [
              "['gurwinder', 'meena', 'canada', 'gurwinder', 'meena', 'canada']"
            ]
          },
          "metadata": {},
          "execution_count": 37
        }
      ]
    },
    {
      "cell_type": "code",
      "source": [
        "for i in my_list:\n",
        "  print(i)"
      ],
      "metadata": {
        "colab": {
          "base_uri": "https://localhost:8080/"
        },
        "id": "WXqm63ytPNjc",
        "outputId": "bbca0625-988d-418b-b7ef-610a9fa5c9b4"
      },
      "execution_count": null,
      "outputs": [
        {
          "output_type": "stream",
          "name": "stdout",
          "text": [
            "gurwinder\n",
            "meena\n",
            "canada\n"
          ]
        }
      ]
    },
    {
      "cell_type": "code",
      "source": [
        "for i in enumerate(my_list):\n",
        "  print(i)\n"
      ],
      "metadata": {
        "colab": {
          "base_uri": "https://localhost:8080/"
        },
        "id": "TC0fsA0tPRi9",
        "outputId": "82a5d913-12bc-4f09-9d30-b8852045f2aa"
      },
      "execution_count": null,
      "outputs": [
        {
          "output_type": "stream",
          "name": "stdout",
          "text": [
            "(0, 'gurwinder')\n",
            "(1, 'meena')\n",
            "(2, 'canada')\n"
          ]
        }
      ]
    },
    {
      "cell_type": "code",
      "source": [
        "#example 2\n"
      ],
      "metadata": {
        "id": "bB22WcriPXim"
      },
      "execution_count": null,
      "outputs": []
    },
    {
      "cell_type": "code",
      "source": [
        "#suppouse if you want to squares the numbes in a list"
      ],
      "metadata": {
        "id": "Zpnvgmd3PepP"
      },
      "execution_count": null,
      "outputs": []
    },
    {
      "cell_type": "code",
      "source": [
        "list_num=[2,4,5,8]\n",
        "print(list_num)"
      ],
      "metadata": {
        "colab": {
          "base_uri": "https://localhost:8080/"
        },
        "id": "wpE03OkdPpjC",
        "outputId": "832f9839-1b09-45a8-b782-ba0f9106a6cd"
      },
      "execution_count": null,
      "outputs": [
        {
          "output_type": "stream",
          "name": "stdout",
          "text": [
            "[2, 4, 5, 8]\n"
          ]
        }
      ]
    },
    {
      "cell_type": "code",
      "source": [
        "for i in list_num:\n",
        "  i=i**2\n",
        "  print(i)"
      ],
      "metadata": {
        "colab": {
          "base_uri": "https://localhost:8080/"
        },
        "id": "CHzhuW5pQFeR",
        "outputId": "fd8d6809-6ddf-42ba-c3f0-7dcf3bee8051"
      },
      "execution_count": null,
      "outputs": [
        {
          "output_type": "stream",
          "name": "stdout",
          "text": [
            "4\n",
            "16\n",
            "25\n",
            "64\n"
          ]
        }
      ]
    },
    {
      "cell_type": "code",
      "source": [
        "2**3"
      ],
      "metadata": {
        "colab": {
          "base_uri": "https://localhost:8080/"
        },
        "id": "c5n23qQSPwkn",
        "outputId": "e6685e95-632a-466d-d6d6-f008441dc455"
      },
      "execution_count": null,
      "outputs": [
        {
          "output_type": "execute_result",
          "data": {
            "text/plain": [
              "8"
            ]
          },
          "metadata": {},
          "execution_count": 25
        }
      ]
    },
    {
      "cell_type": "code",
      "source": [
        "#this squaring we have to do with for loop\n",
        "for i in list_num:\n",
        "  squared_num =i**2\n",
        "  print(squared_num)"
      ],
      "metadata": {
        "colab": {
          "base_uri": "https://localhost:8080/"
        },
        "id": "hTUIMRpOPzmi",
        "outputId": "a5fa9fb8-eaf5-42c2-eabf-a5795118354d"
      },
      "execution_count": null,
      "outputs": [
        {
          "output_type": "stream",
          "name": "stdout",
          "text": [
            "4\n",
            "16\n",
            "25\n",
            "64\n"
          ]
        }
      ]
    },
    {
      "cell_type": "code",
      "source": [
        "for i in list_num:\n",
        "  i=i*2\n",
        "  print(i)"
      ],
      "metadata": {
        "colab": {
          "base_uri": "https://localhost:8080/"
        },
        "id": "T72U0dNjQCBv",
        "outputId": "fe12dbe3-a2a9-4bfd-f753-32734eb88c0e"
      },
      "execution_count": null,
      "outputs": [
        {
          "output_type": "stream",
          "name": "stdout",
          "text": [
            "4\n",
            "8\n",
            "10\n",
            "16\n"
          ]
        }
      ]
    },
    {
      "cell_type": "code",
      "source": [
        "for i in list_num:\n",
        "  i=i+100\n",
        "  print(i)"
      ],
      "metadata": {
        "colab": {
          "base_uri": "https://localhost:8080/"
        },
        "id": "VfxmtaQpQfku",
        "outputId": "78caa137-881e-415e-ec98-7b9cf8e2764a"
      },
      "execution_count": null,
      "outputs": [
        {
          "output_type": "stream",
          "name": "stdout",
          "text": [
            "102\n",
            "104\n",
            "105\n",
            "108\n"
          ]
        }
      ]
    },
    {
      "cell_type": "code",
      "source": [
        "print(list_num)"
      ],
      "metadata": {
        "colab": {
          "base_uri": "https://localhost:8080/"
        },
        "id": "f4UdFjXCQtF4",
        "outputId": "4940ffba-d667-4c6b-a90f-3c1b74d0e698"
      },
      "execution_count": null,
      "outputs": [
        {
          "output_type": "stream",
          "name": "stdout",
          "text": [
            "[2, 4, 5, 8]\n"
          ]
        }
      ]
    },
    {
      "cell_type": "code",
      "source": [
        "for i in list_num:\n",
        "  i=i-1\n",
        "  print(i)"
      ],
      "metadata": {
        "colab": {
          "base_uri": "https://localhost:8080/"
        },
        "id": "-1_XxT-0Qk5Q",
        "outputId": "9e6a27c2-13e4-4233-8d75-5dcd64dfb11b"
      },
      "execution_count": null,
      "outputs": [
        {
          "output_type": "stream",
          "name": "stdout",
          "text": [
            "1\n",
            "3\n",
            "4\n",
            "7\n"
          ]
        }
      ]
    },
    {
      "cell_type": "code",
      "source": [
        "num_list=[1,3,4,5,6,7,8,9,10]\n",
        "print(num_list)"
      ],
      "metadata": {
        "colab": {
          "base_uri": "https://localhost:8080/"
        },
        "id": "t8oAqMdpQr17",
        "outputId": "52c39b5d-9242-4c14-d4f5-9cf88f6e3792"
      },
      "execution_count": null,
      "outputs": [
        {
          "output_type": "stream",
          "name": "stdout",
          "text": [
            "[1, 3, 4, 5, 6, 7, 8, 9, 10]\n"
          ]
        }
      ]
    },
    {
      "cell_type": "code",
      "source": [],
      "metadata": {
        "id": "MLLw_0g_RLRC"
      },
      "execution_count": null,
      "outputs": []
    },
    {
      "cell_type": "code",
      "source": [
        "num_list*2"
      ],
      "metadata": {
        "colab": {
          "base_uri": "https://localhost:8080/"
        },
        "id": "ccimAd91Q_me",
        "outputId": "0ac07a5b-4606-4c29-b807-bcf29849183f"
      },
      "execution_count": null,
      "outputs": [
        {
          "output_type": "execute_result",
          "data": {
            "text/plain": [
              "[1, 3, 4, 5, 6, 7, 8, 9, 10, 1, 3, 4, 5, 6, 7, 8, 9, 10]"
            ]
          },
          "metadata": {},
          "execution_count": 35
        }
      ]
    },
    {
      "cell_type": "code",
      "source": [
        "for i in num_list:\n",
        "  i=i*2\n",
        "  print(i)"
      ],
      "metadata": {
        "colab": {
          "base_uri": "https://localhost:8080/"
        },
        "id": "-BieEN-QQ9Ah",
        "outputId": "dfe205b2-7083-43ef-e1ac-474c287a217e"
      },
      "execution_count": null,
      "outputs": [
        {
          "output_type": "stream",
          "name": "stdout",
          "text": [
            "2\n",
            "6\n",
            "8\n",
            "10\n",
            "12\n",
            "14\n",
            "16\n",
            "18\n",
            "20\n"
          ]
        }
      ]
    },
    {
      "cell_type": "code",
      "source": [
        "#lets see what we can see means\n",
        "#direclty we are not going for the printing num\n",
        "#we wil store these in some where else\n"
      ],
      "metadata": {
        "id": "kwR6mQjMRIqI"
      },
      "execution_count": null,
      "outputs": []
    },
    {
      "cell_type": "code",
      "source": [
        "print(num_list)"
      ],
      "metadata": {
        "colab": {
          "base_uri": "https://localhost:8080/"
        },
        "id": "o8KByQ7gRnk-",
        "outputId": "6f0f0133-c057-4d52-d760-34d573b1bb71"
      },
      "execution_count": null,
      "outputs": [
        {
          "output_type": "stream",
          "name": "stdout",
          "text": [
            "[1, 3, 4, 5, 6, 7, 8, 9, 10]\n"
          ]
        }
      ]
    },
    {
      "cell_type": "code",
      "source": [
        "squared_numbers=[]\n",
        "\n",
        "for i in num_list:\n",
        "  i=i**2\n",
        "  squared_numbers.append(i)\n",
        "print(squared_numbers)"
      ],
      "metadata": {
        "colab": {
          "base_uri": "https://localhost:8080/"
        },
        "id": "sGAOb8ToRgpk",
        "outputId": "6b2133b9-310a-4818-9e01-656ddc59c200"
      },
      "execution_count": null,
      "outputs": [
        {
          "output_type": "stream",
          "name": "stdout",
          "text": [
            "[1, 9, 16, 25, 36, 49, 64, 81, 100]\n"
          ]
        }
      ]
    },
    {
      "cell_type": "code",
      "source": [
        "for i in num_list:\n",
        "  i=i**2\n",
        "  print(i)"
      ],
      "metadata": {
        "colab": {
          "base_uri": "https://localhost:8080/"
        },
        "id": "cWFFofghRhDf",
        "outputId": "8583e1e2-c01d-4075-9dbb-68952ed5f1ed"
      },
      "execution_count": null,
      "outputs": [
        {
          "output_type": "stream",
          "name": "stdout",
          "text": [
            "1\n",
            "9\n",
            "16\n",
            "25\n",
            "36\n",
            "49\n",
            "64\n",
            "81\n",
            "100\n"
          ]
        }
      ]
    },
    {
      "cell_type": "code",
      "source": [
        "print(list_num)"
      ],
      "metadata": {
        "colab": {
          "base_uri": "https://localhost:8080/"
        },
        "id": "XzqSPn0URhF4",
        "outputId": "5ebcda4c-67cd-4554-c1b6-c71f5f4aabba"
      },
      "execution_count": null,
      "outputs": [
        {
          "output_type": "stream",
          "name": "stdout",
          "text": [
            "[2, 4, 5, 8]\n"
          ]
        }
      ]
    },
    {
      "cell_type": "code",
      "source": [
        "for i in list_num:\n",
        "  print(i)"
      ],
      "metadata": {
        "colab": {
          "base_uri": "https://localhost:8080/"
        },
        "id": "JoajF9EJRhIE",
        "outputId": "cded368b-8a28-4345-fdae-d71ea9f2d119"
      },
      "execution_count": null,
      "outputs": [
        {
          "output_type": "stream",
          "name": "stdout",
          "text": [
            "2\n",
            "4\n",
            "5\n",
            "8\n"
          ]
        }
      ]
    },
    {
      "cell_type": "code",
      "source": [
        "for i in list_num:\n",
        "  i=i*2\n",
        "  print(i)"
      ],
      "metadata": {
        "colab": {
          "base_uri": "https://localhost:8080/"
        },
        "id": "ubTNggxCRhLT",
        "outputId": "2d919a0c-eda0-4a14-b753-f204d1509dcc"
      },
      "execution_count": null,
      "outputs": [
        {
          "output_type": "stream",
          "name": "stdout",
          "text": [
            "4\n",
            "8\n",
            "10\n",
            "16\n"
          ]
        }
      ]
    },
    {
      "cell_type": "code",
      "source": [
        "empty_list=[]\n",
        "\n",
        "for i in list_num:\n",
        "  i=i*2\n",
        "  empty_list.append(i)\n",
        "print(empty_list)"
      ],
      "metadata": {
        "colab": {
          "base_uri": "https://localhost:8080/"
        },
        "id": "K4CHCR8WSrJz",
        "outputId": "3d0583ad-c97e-4ec7-823c-516bab210562"
      },
      "execution_count": null,
      "outputs": [
        {
          "output_type": "stream",
          "name": "stdout",
          "text": [
            "[4, 8, 10, 16]\n"
          ]
        }
      ]
    },
    {
      "cell_type": "code",
      "source": [
        "print(list_num)\n",
        "print(empty_list)"
      ],
      "metadata": {
        "colab": {
          "base_uri": "https://localhost:8080/"
        },
        "id": "7-1p2KN4S41u",
        "outputId": "32118220-2b57-42ab-dd44-306e653c5ff1"
      },
      "execution_count": null,
      "outputs": [
        {
          "output_type": "stream",
          "name": "stdout",
          "text": [
            "[2, 4, 5, 8]\n",
            "[4, 8, 10, 16]\n"
          ]
        }
      ]
    },
    {
      "cell_type": "code",
      "source": [
        "zip_lists=zip(list_num,empty_list)\n",
        "print(zip_lists)"
      ],
      "metadata": {
        "colab": {
          "base_uri": "https://localhost:8080/"
        },
        "id": "aA1cGIv3THbe",
        "outputId": "6765b8ed-87b9-4085-8758-dd9906ceb721"
      },
      "execution_count": null,
      "outputs": [
        {
          "output_type": "stream",
          "name": "stdout",
          "text": [
            "<zip object at 0x794d2b09d6c0>\n"
          ]
        }
      ]
    },
    {
      "cell_type": "code",
      "source": [
        "dict(zip_lists)"
      ],
      "metadata": {
        "colab": {
          "base_uri": "https://localhost:8080/"
        },
        "id": "Uu-w9o3yTSHv",
        "outputId": "139805af-ff07-4d20-e120-99678c461031"
      },
      "execution_count": null,
      "outputs": [
        {
          "output_type": "execute_result",
          "data": {
            "text/plain": [
              "{2: 4, 4: 8, 5: 10, 8: 16}"
            ]
          },
          "metadata": {},
          "execution_count": 50
        }
      ]
    },
    {
      "cell_type": "code",
      "source": [
        "#from tomorrows 22 dec 2023 we have to continue from here\n",
        "#"
      ],
      "metadata": {
        "id": "wvJ6id2mTU0K"
      },
      "execution_count": null,
      "outputs": []
    },
    {
      "cell_type": "code",
      "source": [
        "#contutation from the above class"
      ],
      "metadata": {
        "id": "DNyJ6G2DQ02K"
      },
      "execution_count": null,
      "outputs": []
    },
    {
      "cell_type": "code",
      "source": [
        "#22dec2023"
      ],
      "metadata": {
        "id": "qqwG9HyAQ06D"
      },
      "execution_count": null,
      "outputs": []
    },
    {
      "cell_type": "code",
      "source": [
        "#another example"
      ],
      "metadata": {
        "id": "E0I7NeIERB2f"
      },
      "execution_count": null,
      "outputs": []
    },
    {
      "cell_type": "code",
      "source": [
        "#suppouse if we want to print the square of those numbers which is\n",
        "#only even .lets see"
      ],
      "metadata": {
        "id": "nqbRb4CeRL1v"
      },
      "execution_count": null,
      "outputs": []
    },
    {
      "cell_type": "code",
      "source": [
        "my_list=[2,3,4,5,6,7,8]\n",
        "print(my_list)"
      ],
      "metadata": {
        "colab": {
          "base_uri": "https://localhost:8080/"
        },
        "id": "oeKU4fiKRb4W",
        "outputId": "fbbe340c-e51f-4017-c82d-a9ca68caf228"
      },
      "execution_count": null,
      "outputs": [
        {
          "output_type": "stream",
          "name": "stdout",
          "text": [
            "[2, 3, 4, 5, 6, 7, 8]\n"
          ]
        }
      ]
    },
    {
      "cell_type": "code",
      "source": [
        "for i in my_list:\n",
        "  print(i)"
      ],
      "metadata": {
        "colab": {
          "base_uri": "https://localhost:8080/"
        },
        "id": "djFI-GiPSe02",
        "outputId": "86291d77-700c-442f-da36-536d8900a082"
      },
      "execution_count": null,
      "outputs": [
        {
          "output_type": "stream",
          "name": "stdout",
          "text": [
            "2\n",
            "3\n",
            "4\n",
            "5\n",
            "6\n",
            "7\n",
            "8\n"
          ]
        }
      ]
    },
    {
      "cell_type": "code",
      "source": [
        "for i in my_list:\n",
        "  i=i**2\n",
        "  print(i)"
      ],
      "metadata": {
        "colab": {
          "base_uri": "https://localhost:8080/"
        },
        "id": "O8FY6TcCSjFf",
        "outputId": "ef795286-0e8a-4a62-f778-778adc34bcbb"
      },
      "execution_count": null,
      "outputs": [
        {
          "output_type": "stream",
          "name": "stdout",
          "text": [
            "4\n",
            "9\n",
            "16\n",
            "25\n",
            "36\n",
            "49\n",
            "64\n"
          ]
        }
      ]
    },
    {
      "cell_type": "code",
      "source": [
        "for i in my_list:\n",
        "  i=i**2\n",
        "  if i%2==0:\n",
        "\n",
        "    print(i)"
      ],
      "metadata": {
        "colab": {
          "base_uri": "https://localhost:8080/"
        },
        "id": "Ll0x18yGRL-O",
        "outputId": "bb1dd9a1-09ae-464e-b1b9-fb300b334d19"
      },
      "execution_count": null,
      "outputs": [
        {
          "output_type": "stream",
          "name": "stdout",
          "text": [
            "4\n",
            "16\n",
            "36\n",
            "64\n"
          ]
        }
      ]
    },
    {
      "cell_type": "code",
      "source": [
        "for i in my_list:\n",
        "  i=i**2\n",
        "  if i%2==1:\n",
        "    print(i)"
      ],
      "metadata": {
        "colab": {
          "base_uri": "https://localhost:8080/"
        },
        "id": "XM_cIojySB08",
        "outputId": "5e341abf-e38b-407d-bf85-b3202a1735d6"
      },
      "execution_count": null,
      "outputs": [
        {
          "output_type": "stream",
          "name": "stdout",
          "text": [
            "9\n",
            "25\n",
            "49\n"
          ]
        }
      ]
    },
    {
      "cell_type": "code",
      "source": [
        "for i in my_list:\n",
        "  i=i**2\n",
        "  if i%2!=0:\n",
        "    print(i)"
      ],
      "metadata": {
        "colab": {
          "base_uri": "https://localhost:8080/"
        },
        "id": "gAynAjjDTUrh",
        "outputId": "8bfe0dc3-c1da-4cff-afbb-22c82493b48a"
      },
      "execution_count": null,
      "outputs": [
        {
          "output_type": "stream",
          "name": "stdout",
          "text": [
            "9\n",
            "25\n",
            "49\n"
          ]
        }
      ]
    },
    {
      "cell_type": "code",
      "source": [
        "#range function\n",
        "#range function is used to get sequence of numbers\n",
        "#it takes three arguments\n",
        "#start,stop,step"
      ],
      "metadata": {
        "id": "6bMGRtIRTQQS"
      },
      "execution_count": null,
      "outputs": []
    },
    {
      "cell_type": "code",
      "source": [
        "list(range(1,10))"
      ],
      "metadata": {
        "colab": {
          "base_uri": "https://localhost:8080/"
        },
        "id": "m5NIGinEVW5k",
        "outputId": "71686fe6-1acf-456a-9326-b1c75ab97f20"
      },
      "execution_count": null,
      "outputs": [
        {
          "output_type": "execute_result",
          "data": {
            "text/plain": [
              "[1, 2, 3, 4, 5, 6, 7, 8, 9]"
            ]
          },
          "metadata": {},
          "execution_count": 9
        }
      ]
    },
    {
      "cell_type": "code",
      "source": [
        "list(range(1,10,2))"
      ],
      "metadata": {
        "colab": {
          "base_uri": "https://localhost:8080/"
        },
        "id": "V6wI8b5yVaCQ",
        "outputId": "86ca86d8-2195-47bd-ec9d-41721c6c8357"
      },
      "execution_count": null,
      "outputs": [
        {
          "output_type": "execute_result",
          "data": {
            "text/plain": [
              "[1, 3, 5, 7, 9]"
            ]
          },
          "metadata": {},
          "execution_count": 10
        }
      ]
    },
    {
      "cell_type": "code",
      "source": [
        "for i in range(1,10,2):\n",
        "  print(i)\n"
      ],
      "metadata": {
        "colab": {
          "base_uri": "https://localhost:8080/"
        },
        "id": "3tm4Bx5TVhsA",
        "outputId": "4b4bab28-3a99-4631-b8b1-4c646d554d3a"
      },
      "execution_count": null,
      "outputs": [
        {
          "output_type": "stream",
          "name": "stdout",
          "text": [
            "1\n",
            "3\n",
            "5\n",
            "7\n",
            "9\n"
          ]
        }
      ]
    },
    {
      "cell_type": "code",
      "source": [
        "for i in range(1,5):\n",
        "  i=i+10\n",
        "  print(i)"
      ],
      "metadata": {
        "colab": {
          "base_uri": "https://localhost:8080/"
        },
        "id": "hBFuavPIV5DD",
        "outputId": "a0afc6b9-867e-489c-c367-e1729c082a87"
      },
      "execution_count": null,
      "outputs": [
        {
          "output_type": "stream",
          "name": "stdout",
          "text": [
            "11\n",
            "12\n",
            "13\n",
            "14\n"
          ]
        }
      ]
    },
    {
      "cell_type": "code",
      "source": [
        "for i in range(1,10,3):\n",
        "  i=i**2\n",
        "  print(i)"
      ],
      "metadata": {
        "colab": {
          "base_uri": "https://localhost:8080/"
        },
        "id": "zj7XGpZEWC6w",
        "outputId": "6f193f09-1fed-44e3-cb54-54e390f7261c"
      },
      "execution_count": null,
      "outputs": [
        {
          "output_type": "stream",
          "name": "stdout",
          "text": [
            "1\n",
            "16\n",
            "49\n"
          ]
        }
      ]
    },
    {
      "cell_type": "code",
      "source": [
        "#another example\n",
        "#if we want to find the sum of squares of numbers in list"
      ],
      "metadata": {
        "id": "9MHlkhJHWIHh"
      },
      "execution_count": null,
      "outputs": []
    },
    {
      "cell_type": "code",
      "source": [
        "print(my_list)"
      ],
      "metadata": {
        "colab": {
          "base_uri": "https://localhost:8080/"
        },
        "id": "jSOEQcndWgfW",
        "outputId": "831a69f5-9748-4b05-f9ae-123aeb431292"
      },
      "execution_count": null,
      "outputs": [
        {
          "output_type": "stream",
          "name": "stdout",
          "text": [
            "[2, 3, 4, 5, 6, 7, 8]\n"
          ]
        }
      ]
    },
    {
      "cell_type": "code",
      "source": [
        "sum=10\n",
        "\n",
        "for i in range(1,10):\n",
        "  i=sum+i\n",
        "  print(i)"
      ],
      "metadata": {
        "colab": {
          "base_uri": "https://localhost:8080/"
        },
        "id": "o_EKZBkLWiz8",
        "outputId": "0e1a103d-65dc-4331-cb0b-b705cf724ae9"
      },
      "execution_count": null,
      "outputs": [
        {
          "output_type": "stream",
          "name": "stdout",
          "text": [
            "11\n",
            "12\n",
            "13\n",
            "14\n",
            "15\n",
            "16\n",
            "17\n",
            "18\n",
            "19\n"
          ]
        }
      ]
    },
    {
      "cell_type": "code",
      "source": [
        "#till now we have seen the for loops for list objects\n",
        "#lets seethis with strings and tuples"
      ],
      "metadata": {
        "id": "3PUiMotpW71d"
      },
      "execution_count": null,
      "outputs": []
    },
    {
      "cell_type": "code",
      "source": [
        "#example"
      ],
      "metadata": {
        "id": "btt4HC41XURZ"
      },
      "execution_count": null,
      "outputs": []
    },
    {
      "cell_type": "code",
      "source": [
        "#i want to print all the characters seperately\n",
        "#"
      ],
      "metadata": {
        "id": "-3o2Q5YpXXyE"
      },
      "execution_count": null,
      "outputs": []
    },
    {
      "cell_type": "code",
      "source": [
        "my_charact=\"i want to print all the characters seperately\"\n",
        "print(my_charact)"
      ],
      "metadata": {
        "colab": {
          "base_uri": "https://localhost:8080/"
        },
        "id": "a-SjpGHPXhm9",
        "outputId": "fdaadfa3-88ed-4a23-a111-17a1db18f772"
      },
      "execution_count": null,
      "outputs": [
        {
          "output_type": "stream",
          "name": "stdout",
          "text": [
            "i want to print all the characters seperately\n"
          ]
        }
      ]
    },
    {
      "cell_type": "code",
      "source": [
        "for i in my_charact:\n",
        "  print(i)"
      ],
      "metadata": {
        "colab": {
          "base_uri": "https://localhost:8080/"
        },
        "id": "-tD7uoGtXvzh",
        "outputId": "28051dac-6edf-4bf7-e321-ebb1f677f74a"
      },
      "execution_count": null,
      "outputs": [
        {
          "output_type": "stream",
          "name": "stdout",
          "text": [
            "i\n",
            " \n",
            "w\n",
            "a\n",
            "n\n",
            "t\n",
            " \n",
            "t\n",
            "o\n",
            " \n",
            "p\n",
            "r\n",
            "i\n",
            "n\n",
            "t\n",
            " \n",
            "a\n",
            "l\n",
            "l\n",
            " \n",
            "t\n",
            "h\n",
            "e\n",
            " \n",
            "c\n",
            "h\n",
            "a\n",
            "r\n",
            "a\n",
            "c\n",
            "t\n",
            "e\n",
            "r\n",
            "s\n",
            " \n",
            "s\n",
            "e\n",
            "p\n",
            "e\n",
            "r\n",
            "a\n",
            "t\n",
            "e\n",
            "l\n",
            "y\n"
          ]
        }
      ]
    },
    {
      "cell_type": "code",
      "source": [
        "for i in enumerate(my_charact):\n",
        "  print(i)"
      ],
      "metadata": {
        "colab": {
          "base_uri": "https://localhost:8080/"
        },
        "id": "tLIfk4xYX1Qy",
        "outputId": "226b9429-4ce4-4217-a941-709598f02949"
      },
      "execution_count": null,
      "outputs": [
        {
          "output_type": "stream",
          "name": "stdout",
          "text": [
            "(0, 'i')\n",
            "(1, ' ')\n",
            "(2, 'w')\n",
            "(3, 'a')\n",
            "(4, 'n')\n",
            "(5, 't')\n",
            "(6, ' ')\n",
            "(7, 't')\n",
            "(8, 'o')\n",
            "(9, ' ')\n",
            "(10, 'p')\n",
            "(11, 'r')\n",
            "(12, 'i')\n",
            "(13, 'n')\n",
            "(14, 't')\n",
            "(15, ' ')\n",
            "(16, 'a')\n",
            "(17, 'l')\n",
            "(18, 'l')\n",
            "(19, ' ')\n",
            "(20, 't')\n",
            "(21, 'h')\n",
            "(22, 'e')\n",
            "(23, ' ')\n",
            "(24, 'c')\n",
            "(25, 'h')\n",
            "(26, 'a')\n",
            "(27, 'r')\n",
            "(28, 'a')\n",
            "(29, 'c')\n",
            "(30, 't')\n",
            "(31, 'e')\n",
            "(32, 'r')\n",
            "(33, 's')\n",
            "(34, ' ')\n",
            "(35, 's')\n",
            "(36, 'e')\n",
            "(37, 'p')\n",
            "(38, 'e')\n",
            "(39, 'r')\n",
            "(40, 'a')\n",
            "(41, 't')\n",
            "(42, 'e')\n",
            "(43, 'l')\n",
            "(44, 'y')\n"
          ]
        }
      ]
    },
    {
      "cell_type": "code",
      "source": [
        "#split method\n",
        "# from which we want to split we can split it"
      ],
      "metadata": {
        "id": "38WSUEULYGV6"
      },
      "execution_count": null,
      "outputs": []
    },
    {
      "cell_type": "code",
      "source": [
        "print(my_charact)"
      ],
      "metadata": {
        "colab": {
          "base_uri": "https://localhost:8080/"
        },
        "id": "T7vgcSWvYkey",
        "outputId": "db1bf7ff-d80d-486a-ceef-c43d939e23f6"
      },
      "execution_count": null,
      "outputs": [
        {
          "output_type": "stream",
          "name": "stdout",
          "text": [
            "i want to print all the characters seperately\n"
          ]
        }
      ]
    },
    {
      "cell_type": "code",
      "source": [
        "my_split=my_charact.split(' ')\n",
        "print(my_split)"
      ],
      "metadata": {
        "colab": {
          "base_uri": "https://localhost:8080/"
        },
        "id": "DdA8WSliYkkv",
        "outputId": "20e9b882-4ec5-49d2-b610-5a7f81b9c84e"
      },
      "execution_count": null,
      "outputs": [
        {
          "output_type": "stream",
          "name": "stdout",
          "text": [
            "['i', 'want', 'to', 'print', 'all', 'the', 'characters', 'seperately']\n"
          ]
        }
      ]
    },
    {
      "cell_type": "code",
      "source": [],
      "metadata": {
        "id": "a2GOzAW_YwWm"
      },
      "execution_count": null,
      "outputs": []
    },
    {
      "cell_type": "code",
      "source": [
        "for i in my_charact:\n",
        "  if i not in 'i':\n",
        "    print(i)"
      ],
      "metadata": {
        "colab": {
          "base_uri": "https://localhost:8080/"
        },
        "id": "F_lBF8VFZQB6",
        "outputId": "2fcc9c93-dca9-4b41-eea1-1002106b89e6"
      },
      "execution_count": null,
      "outputs": [
        {
          "output_type": "stream",
          "name": "stdout",
          "text": [
            " \n",
            "w\n",
            "a\n",
            "n\n",
            "t\n",
            " \n",
            "t\n",
            "o\n",
            " \n",
            "p\n",
            "r\n",
            "n\n",
            "t\n",
            " \n",
            "a\n",
            "l\n",
            "l\n",
            " \n",
            "t\n",
            "h\n",
            "e\n",
            " \n",
            "c\n",
            "h\n",
            "a\n",
            "r\n",
            "a\n",
            "c\n",
            "t\n",
            "e\n",
            "r\n",
            "s\n",
            " \n",
            "s\n",
            "e\n",
            "p\n",
            "e\n",
            "r\n",
            "a\n",
            "t\n",
            "e\n",
            "l\n",
            "y\n"
          ]
        }
      ]
    },
    {
      "cell_type": "code",
      "source": [
        "for i in my_split:\n",
        "  if i not in ['all','the']:\n",
        "    print(i)\n"
      ],
      "metadata": {
        "colab": {
          "base_uri": "https://localhost:8080/"
        },
        "id": "IhdsGDndZeGH",
        "outputId": "cab8d53c-d2f5-40a0-bad4-171b9e3b204b"
      },
      "execution_count": null,
      "outputs": [
        {
          "output_type": "stream",
          "name": "stdout",
          "text": [
            "i\n",
            "want\n",
            "to\n",
            "print\n",
            "characters\n",
            "seperately\n"
          ]
        }
      ]
    },
    {
      "cell_type": "code",
      "source": [
        "#lets see for loop with the tuples"
      ],
      "metadata": {
        "id": "DKsdNEBTaB-F"
      },
      "execution_count": null,
      "outputs": []
    },
    {
      "cell_type": "code",
      "source": [
        "a=('a',\"b\",\"c\",\"d\")\n",
        "print(a)"
      ],
      "metadata": {
        "colab": {
          "base_uri": "https://localhost:8080/"
        },
        "id": "mgXz1rYcaNfw",
        "outputId": "d799466d-87cf-431a-8145-e535ee8b8211"
      },
      "execution_count": null,
      "outputs": [
        {
          "output_type": "stream",
          "name": "stdout",
          "text": [
            "('a', 'b', 'c', 'd')\n"
          ]
        }
      ]
    },
    {
      "cell_type": "code",
      "source": [
        "type(a)"
      ],
      "metadata": {
        "colab": {
          "base_uri": "https://localhost:8080/"
        },
        "id": "FweA7zCRaWCS",
        "outputId": "0ea6ae0c-9730-4a36-8b4a-717479742bef"
      },
      "execution_count": null,
      "outputs": [
        {
          "output_type": "execute_result",
          "data": {
            "text/plain": [
              "tuple"
            ]
          },
          "metadata": {},
          "execution_count": 37
        }
      ]
    },
    {
      "cell_type": "code",
      "source": [
        "for i in a:\n",
        "  print(i)"
      ],
      "metadata": {
        "colab": {
          "base_uri": "https://localhost:8080/"
        },
        "id": "QTah_6eKaX6Z",
        "outputId": "2c8572ad-6feb-459d-b1c2-d7d6f872cdaf"
      },
      "execution_count": null,
      "outputs": [
        {
          "output_type": "stream",
          "name": "stdout",
          "text": [
            "a\n",
            "b\n",
            "c\n",
            "d\n"
          ]
        }
      ]
    },
    {
      "cell_type": "code",
      "source": [
        "cities_captial=[('telanga','hyd'),(\"canada\",\"ottawa\"),(\"usa\",\"whashington\")]\n",
        "print(cities_captial)"
      ],
      "metadata": {
        "colab": {
          "base_uri": "https://localhost:8080/"
        },
        "id": "mT6UNYasab54",
        "outputId": "b1a4d65b-f130-40e1-981d-e91126149f59"
      },
      "execution_count": null,
      "outputs": [
        {
          "output_type": "stream",
          "name": "stdout",
          "text": [
            "[('telanga', 'hyd'), ('canada', 'ottawa'), ('usa', 'whashington')]\n"
          ]
        }
      ]
    },
    {
      "cell_type": "code",
      "source": [
        "for state,captial in cities_captial:\n",
        "  print(state,captial)\n"
      ],
      "metadata": {
        "colab": {
          "base_uri": "https://localhost:8080/"
        },
        "id": "JkSibpBebD3L",
        "outputId": "d8153efe-0402-438f-9224-f74454592c43"
      },
      "execution_count": null,
      "outputs": [
        {
          "output_type": "stream",
          "name": "stdout",
          "text": [
            "telanga hyd\n",
            "canada ottawa\n",
            "usa whashington\n"
          ]
        }
      ]
    },
    {
      "cell_type": "code",
      "source": [
        "#another example\n",
        "#lets convert this list of tuples into a dictionary"
      ],
      "metadata": {
        "id": "sCWkMPzsbije"
      },
      "execution_count": null,
      "outputs": []
    },
    {
      "cell_type": "code",
      "source": [
        "cities_captial_dict=dict(cities_captial)\n",
        "print(cities_captial_dict)"
      ],
      "metadata": {
        "colab": {
          "base_uri": "https://localhost:8080/"
        },
        "id": "uAC0Pjbab1qZ",
        "outputId": "73cd9be2-3098-4261-ce75-c4186b8cc000"
      },
      "execution_count": null,
      "outputs": [
        {
          "output_type": "stream",
          "name": "stdout",
          "text": [
            "{'telanga': 'hyd', 'canada': 'ottawa', 'usa': 'whashington'}\n"
          ]
        }
      ]
    },
    {
      "cell_type": "code",
      "source": [
        "#till here 22 dec 2023 class completed"
      ],
      "metadata": {
        "id": "iuGkZkOpcO6e"
      },
      "execution_count": null,
      "outputs": []
    },
    {
      "cell_type": "code",
      "source": [
        "#lets continue from tomorrow\n",
        "# from here we have to from next class"
      ],
      "metadata": {
        "id": "VL-nye0QcCZi"
      },
      "execution_count": null,
      "outputs": []
    },
    {
      "cell_type": "code",
      "source": [
        "for i in (1,2,3):\n",
        "  print(i)"
      ],
      "metadata": {
        "colab": {
          "base_uri": "https://localhost:8080/"
        },
        "id": "43W8iI7K5Byk",
        "outputId": "c9efc1d3-539f-43b2-bbe6-c65130849db5"
      },
      "execution_count": null,
      "outputs": [
        {
          "output_type": "stream",
          "name": "stdout",
          "text": [
            "1\n",
            "2\n",
            "3\n"
          ]
        }
      ]
    },
    {
      "cell_type": "code",
      "source": [
        "#while loop\n",
        "#while loop statement is repeatedly execute a single statement or group of statement as\n",
        "#long as condition is true\n",
        "#"
      ],
      "metadata": {
        "id": "UufbZvO05coZ"
      },
      "execution_count": null,
      "outputs": []
    },
    {
      "cell_type": "code",
      "source": [
        "i=1\n",
        "while i<10:\n",
        "  print(i)\n",
        "  i=i+1"
      ],
      "metadata": {
        "colab": {
          "base_uri": "https://localhost:8080/"
        },
        "id": "51qSOCM96pdZ",
        "outputId": "e7cdd015-2718-4326-fdae-ecf7bae4126c"
      },
      "execution_count": null,
      "outputs": [
        {
          "output_type": "stream",
          "name": "stdout",
          "text": [
            "1\n",
            "2\n",
            "3\n",
            "4\n",
            "5\n",
            "6\n",
            "7\n",
            "8\n",
            "9\n"
          ]
        }
      ]
    },
    {
      "cell_type": "code",
      "source": [
        "i=2\n",
        "while i<20:\n",
        "  print(i)\n",
        "  i=i+2"
      ],
      "metadata": {
        "colab": {
          "base_uri": "https://localhost:8080/"
        },
        "id": "Lq-QDEk97mrs",
        "outputId": "b3967165-28a7-4423-d13e-9674363d35b4"
      },
      "execution_count": null,
      "outputs": [
        {
          "output_type": "stream",
          "name": "stdout",
          "text": [
            "2\n",
            "4\n",
            "6\n",
            "8\n",
            "10\n",
            "12\n",
            "14\n",
            "16\n",
            "18\n"
          ]
        }
      ]
    },
    {
      "cell_type": "code",
      "source": [
        "i=1\n",
        "while i<10:\n",
        "  print('while loop')\n",
        "  i=i+1"
      ],
      "metadata": {
        "colab": {
          "base_uri": "https://localhost:8080/"
        },
        "id": "lq5fGyWQ7AFy",
        "outputId": "fbff82f4-1287-429b-d71d-5c3a2e184224"
      },
      "execution_count": null,
      "outputs": [
        {
          "output_type": "stream",
          "name": "stdout",
          "text": [
            "while loop\n",
            "while loop\n",
            "while loop\n",
            "while loop\n",
            "while loop\n",
            "while loop\n",
            "while loop\n",
            "while loop\n",
            "while loop\n"
          ]
        }
      ]
    },
    {
      "cell_type": "code",
      "source": [
        "i=3\n",
        "\n",
        "while i<30:\n",
        "  print(i)\n",
        "  i=i+5"
      ],
      "metadata": {
        "colab": {
          "base_uri": "https://localhost:8080/"
        },
        "id": "kB6LHq6K7R1w",
        "outputId": "de679f80-cf60-4c26-e219-331d48962988"
      },
      "execution_count": null,
      "outputs": [
        {
          "output_type": "stream",
          "name": "stdout",
          "text": [
            "3\n",
            "8\n",
            "13\n",
            "18\n",
            "23\n",
            "28\n"
          ]
        }
      ]
    },
    {
      "cell_type": "code",
      "source": [
        "i=5\n",
        "\n",
        "while i<=50:\n",
        "  print(i)\n",
        "  i+=10"
      ],
      "metadata": {
        "colab": {
          "base_uri": "https://localhost:8080/"
        },
        "id": "IcvLvqLj9CL2",
        "outputId": "7527ed60-2b5c-411b-f5cc-846c7699947f"
      },
      "execution_count": null,
      "outputs": [
        {
          "output_type": "stream",
          "name": "stdout",
          "text": [
            "5\n",
            "15\n",
            "25\n",
            "35\n",
            "45\n"
          ]
        }
      ]
    },
    {
      "cell_type": "code",
      "source": [
        "#break continue and pass\n"
      ],
      "metadata": {
        "id": "wpkyaBRm8hvU"
      },
      "execution_count": null,
      "outputs": []
    },
    {
      "cell_type": "code",
      "source": [
        "x=0\n",
        "\n",
        "while x<10:\n",
        "  x=x+2\n",
        "  if x==5:\n",
        "    print(x)\n",
        "    break\n"
      ],
      "metadata": {
        "id": "IU7A3TLJ-R_x"
      },
      "execution_count": null,
      "outputs": []
    },
    {
      "cell_type": "code",
      "source": [
        "x=0\n",
        "while x<5:\n",
        "  print(x)\n",
        "  x=x+1"
      ],
      "metadata": {
        "colab": {
          "base_uri": "https://localhost:8080/"
        },
        "id": "VpO3v_pLA94i",
        "outputId": "f2228773-cde7-4fa1-97a1-4409517d6e6d"
      },
      "execution_count": null,
      "outputs": [
        {
          "output_type": "stream",
          "name": "stdout",
          "text": [
            "0\n",
            "1\n",
            "2\n",
            "3\n",
            "4\n"
          ]
        }
      ]
    },
    {
      "cell_type": "code",
      "source": [
        "x=0\n",
        "\n",
        "while x<5:\n",
        "  print(x)\n",
        "  if x==3:\n",
        "    print('break')\n",
        "    break\n",
        "  x=x+1"
      ],
      "metadata": {
        "id": "VaDbJQv1-4aN",
        "colab": {
          "base_uri": "https://localhost:8080/"
        },
        "outputId": "88b506e7-ba32-4d75-ebea-d9a500f5dc4c"
      },
      "execution_count": null,
      "outputs": [
        {
          "output_type": "stream",
          "name": "stdout",
          "text": [
            "0\n",
            "1\n",
            "2\n",
            "3\n",
            "break\n"
          ]
        }
      ]
    },
    {
      "cell_type": "code",
      "source": [
        "#continue\n",
        "x=0\n",
        "\n",
        "while x<5:\n",
        "  x=x+1\n",
        "  if x==2 or x==4:\n",
        "    print(x)\n",
        "    continue\n",
        "  print(x)"
      ],
      "metadata": {
        "colab": {
          "base_uri": "https://localhost:8080/"
        },
        "id": "RMESVLIiAlMV",
        "outputId": "7c2ee111-2039-4e74-a4d2-bdbc970a658b"
      },
      "execution_count": null,
      "outputs": [
        {
          "output_type": "stream",
          "name": "stdout",
          "text": [
            "1\n",
            "2\n",
            "3\n",
            "4\n",
            "5\n"
          ]
        }
      ]
    },
    {
      "cell_type": "code",
      "source": [
        "#continue\n",
        "x=0\n",
        "\n",
        "while x<5:\n",
        "  x=x+1\n",
        "  if x==2:\n",
        "    print(x)\n",
        "    continue\n",
        "  print(x)"
      ],
      "metadata": {
        "colab": {
          "base_uri": "https://localhost:8080/"
        },
        "id": "nF1F5nmeCeue",
        "outputId": "fd4307a8-8def-43bb-ae54-6c07a93a0c80"
      },
      "execution_count": null,
      "outputs": [
        {
          "output_type": "stream",
          "name": "stdout",
          "text": [
            "1\n",
            "2\n",
            "3\n",
            "4\n",
            "5\n"
          ]
        }
      ]
    },
    {
      "cell_type": "code",
      "source": [
        "x=0\n",
        "while x<5:\n",
        "  x=x+1\n",
        "  if x==2:\n",
        "    print(x)\n",
        "    continue\n",
        "  print(x)"
      ],
      "metadata": {
        "colab": {
          "base_uri": "https://localhost:8080/"
        },
        "id": "IsuUkaGnDeTh",
        "outputId": "e3c46e5c-fcfb-4d0d-e2b4-6904267176ac"
      },
      "execution_count": null,
      "outputs": [
        {
          "output_type": "stream",
          "name": "stdout",
          "text": [
            "1\n",
            "2\n",
            "3\n",
            "4\n",
            "5\n"
          ]
        }
      ]
    },
    {
      "cell_type": "code",
      "source": [
        "#continue\n",
        "x=0\n",
        "\n",
        "while x<5:\n",
        "  x=x+1\n",
        "  if x==2 or x==4:\n",
        "    print(x)\n"
      ],
      "metadata": {
        "colab": {
          "base_uri": "https://localhost:8080/"
        },
        "id": "x0kyEWSGCim2",
        "outputId": "70489f28-cd79-419c-9d9a-bd8a18185074"
      },
      "execution_count": null,
      "outputs": [
        {
          "output_type": "stream",
          "name": "stdout",
          "text": [
            "2\n",
            "4\n"
          ]
        }
      ]
    },
    {
      "cell_type": "code",
      "source": [
        "#continue\n",
        "x=0\n",
        "\n",
        "while x<5:\n",
        "  x=x+1\n",
        "  if x==2 or x==4:\n",
        "    print(x)\n",
        "    continue\n",
        "  print(x)\n"
      ],
      "metadata": {
        "colab": {
          "base_uri": "https://localhost:8080/"
        },
        "id": "A9r02DPrDG--",
        "outputId": "aa732eca-8460-419c-9dd5-e55c7c0b5347"
      },
      "execution_count": null,
      "outputs": [
        {
          "output_type": "stream",
          "name": "stdout",
          "text": [
            "1\n",
            "2\n",
            "3\n",
            "4\n",
            "5\n"
          ]
        }
      ]
    },
    {
      "cell_type": "code",
      "source": [
        "# 27dec2023 contunation"
      ],
      "metadata": {
        "id": "vzH4A5ifDVLN"
      },
      "execution_count": null,
      "outputs": []
    },
    {
      "cell_type": "code",
      "source": [
        "i=1\n",
        "\n",
        "while i<10:\n",
        "  i=i+1\n",
        "\n",
        "  print(i)"
      ],
      "metadata": {
        "colab": {
          "base_uri": "https://localhost:8080/"
        },
        "id": "sJkIwwEwCFuo",
        "outputId": "54d07f7e-45e9-438d-99e3-d09c17e156f0"
      },
      "execution_count": 12,
      "outputs": [
        {
          "output_type": "stream",
          "name": "stdout",
          "text": [
            "2\n",
            "3\n",
            "4\n",
            "5\n",
            "6\n",
            "7\n",
            "8\n",
            "9\n",
            "10\n"
          ]
        }
      ]
    },
    {
      "cell_type": "code",
      "source": [
        "#lets go for the decrement\n",
        "i=10\n",
        "\n",
        "while i<10:\n",
        "  i=i+i\n",
        "  print(i)"
      ],
      "metadata": {
        "id": "rYjyk12XCjeA"
      },
      "execution_count": 13,
      "outputs": []
    },
    {
      "cell_type": "code",
      "source": [
        "#see the decrement over here\n",
        "i=10\n",
        "\n",
        "while i>1:\n",
        "  i=i-1\n",
        "  print(i)"
      ],
      "metadata": {
        "colab": {
          "base_uri": "https://localhost:8080/"
        },
        "id": "zesphPnDDUdB",
        "outputId": "2b9788fb-58dc-4609-c1ad-32c0102a38fb"
      },
      "execution_count": 14,
      "outputs": [
        {
          "output_type": "stream",
          "name": "stdout",
          "text": [
            "9\n",
            "8\n",
            "7\n",
            "6\n",
            "5\n",
            "4\n",
            "3\n",
            "2\n",
            "1\n"
          ]
        }
      ]
    },
    {
      "cell_type": "code",
      "source": [
        "#sum all the  numbers below the 10\n",
        "\n",
        "i=1\n",
        "sum=0\n",
        "\n",
        "while i<10:\n",
        "  i=i+i\n",
        "  sum=sum+i\n",
        "  print(sum)\n",
        "print(sum)"
      ],
      "metadata": {
        "colab": {
          "base_uri": "https://localhost:8080/"
        },
        "id": "L_Qofq2LDjNA",
        "outputId": "5c1c6228-0bfc-44c8-f05e-f019941c9642"
      },
      "execution_count": 17,
      "outputs": [
        {
          "output_type": "stream",
          "name": "stdout",
          "text": [
            "2\n",
            "6\n",
            "14\n",
            "30\n",
            "30\n"
          ]
        }
      ]
    },
    {
      "cell_type": "code",
      "source": [
        "i=1\n",
        "sum=0\n",
        "\n",
        "while i<10:\n",
        "  i=i+1\n",
        "  sum=sum+i\n",
        "\n",
        "  print(sum)\n",
        "print(sum)"
      ],
      "metadata": {
        "colab": {
          "base_uri": "https://localhost:8080/"
        },
        "id": "VZ7qCsapEhhr",
        "outputId": "5939610d-e9d1-4407-bdd8-3ac23185dcff"
      },
      "execution_count": 2,
      "outputs": [
        {
          "output_type": "stream",
          "name": "stdout",
          "text": [
            "2\n",
            "5\n",
            "9\n",
            "14\n",
            "20\n",
            "27\n",
            "35\n",
            "44\n",
            "54\n",
            "54\n"
          ]
        }
      ]
    },
    {
      "cell_type": "code",
      "source": [
        "2+3+4+5+6+7+8+9+10"
      ],
      "metadata": {
        "colab": {
          "base_uri": "https://localhost:8080/"
        },
        "id": "Yj2pIJBME-CW",
        "outputId": "7b8b9393-bf25-4a68-b5e6-204b59190e72"
      },
      "execution_count": 5,
      "outputs": [
        {
          "output_type": "execute_result",
          "data": {
            "text/plain": [
              "54"
            ]
          },
          "metadata": {},
          "execution_count": 5
        }
      ]
    },
    {
      "cell_type": "code",
      "source": [
        "i=1\n",
        "sum=0\n",
        "\n",
        "while i<10:\n",
        "  i=i+1\n",
        "  sum=sum+i\n",
        "print(sum)"
      ],
      "metadata": {
        "colab": {
          "base_uri": "https://localhost:8080/"
        },
        "id": "5bQw9Hs9FEQ5",
        "outputId": "9cccc05f-c60c-4b31-a8e0-eb6efeb822dc"
      },
      "execution_count": 8,
      "outputs": [
        {
          "output_type": "stream",
          "name": "stdout",
          "text": [
            "54\n"
          ]
        }
      ]
    },
    {
      "cell_type": "code",
      "source": [
        "i=1\n",
        "sum=0\n",
        "\n",
        "while i<10:\n",
        "  i=i+1\n",
        "  sum=sum+i\n",
        "  print(sum)\n",
        "\n"
      ],
      "metadata": {
        "colab": {
          "base_uri": "https://localhost:8080/"
        },
        "id": "xN3IoDZRF7vi",
        "outputId": "4ddbee97-0809-4fda-a4c6-0ed17f190200"
      },
      "execution_count": 7,
      "outputs": [
        {
          "output_type": "stream",
          "name": "stdout",
          "text": [
            "2\n",
            "5\n",
            "9\n",
            "14\n",
            "20\n",
            "27\n",
            "35\n",
            "44\n",
            "54\n"
          ]
        }
      ]
    },
    {
      "cell_type": "code",
      "source": [
        "#till here we have completed the loops and iterations\n",
        "#completed on 27dec2023"
      ],
      "metadata": {
        "id": "9DsVT244F_ne"
      },
      "execution_count": null,
      "outputs": []
    }
  ]
}