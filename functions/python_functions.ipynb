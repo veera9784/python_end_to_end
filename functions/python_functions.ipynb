{
  "nbformat": 4,
  "nbformat_minor": 0,
  "metadata": {
    "colab": {
      "provenance": []
    },
    "kernelspec": {
      "name": "python3",
      "display_name": "Python 3"
    },
    "language_info": {
      "name": "python"
    }
  },
  "cells": [
    {
      "cell_type": "code",
      "execution_count": null,
      "metadata": {
        "id": "zYM-NcY9LhgG"
      },
      "outputs": [],
      "source": [
        "#generally functions are reusable piece of code\n",
        "#which we can use again and again\n",
        "\n",
        "#writing the code in multple lines every time wil not easy\n",
        "# so for that we will use functions\n"
      ]
    },
    {
      "cell_type": "code",
      "source": [
        "#so many inbuilt functions we have seeen til now\n",
        "#examples are print() function and len() function\n"
      ],
      "metadata": {
        "id": "Ceq2Im_vNK3N"
      },
      "execution_count": null,
      "outputs": []
    },
    {
      "cell_type": "code",
      "source": [
        "#functions are of two types\n",
        "#1.predefined(means which allready made and which we alreadsy used)\n",
        "# 2.which we can create"
      ],
      "metadata": {
        "id": "NdbpsAEwNroJ"
      },
      "execution_count": null,
      "outputs": []
    },
    {
      "cell_type": "code",
      "source": [
        "# in the python function keyword is def\n"
      ],
      "metadata": {
        "id": "qL7yfB9IN-Ji"
      },
      "execution_count": null,
      "outputs": []
    },
    {
      "cell_type": "code",
      "source": [
        "def add(x,y):\n",
        "  print(x+y)"
      ],
      "metadata": {
        "id": "l7iyAKrnOJLM"
      },
      "execution_count": null,
      "outputs": []
    },
    {
      "cell_type": "code",
      "source": [
        "add(50,100)"
      ],
      "metadata": {
        "colab": {
          "base_uri": "https://localhost:8080/"
        },
        "id": "-mBj_fPhOajk",
        "outputId": "f3d88580-fc9e-4e5a-c047-69cd97cb8859"
      },
      "execution_count": null,
      "outputs": [
        {
          "output_type": "stream",
          "name": "stdout",
          "text": [
            "150\n"
          ]
        }
      ]
    },
    {
      "cell_type": "code",
      "source": [
        "add(300,500)"
      ],
      "metadata": {
        "colab": {
          "base_uri": "https://localhost:8080/"
        },
        "id": "T8r_IL5gOh6J",
        "outputId": "e986004c-5ec1-4b3d-cbd8-cb1e284aabb5"
      },
      "execution_count": null,
      "outputs": [
        {
          "output_type": "stream",
          "name": "stdout",
          "text": [
            "800\n"
          ]
        }
      ]
    },
    {
      "cell_type": "code",
      "source": [
        "def sub(x,y):\n",
        "  print(x-y)"
      ],
      "metadata": {
        "id": "1XWbGHaqPy_d"
      },
      "execution_count": null,
      "outputs": []
    },
    {
      "cell_type": "code",
      "source": [
        "sub(500,200)"
      ],
      "metadata": {
        "colab": {
          "base_uri": "https://localhost:8080/"
        },
        "id": "T9B9jdmrP329",
        "outputId": "a07b7320-dedc-4ef7-82e6-cfa6d9b77905"
      },
      "execution_count": null,
      "outputs": [
        {
          "output_type": "stream",
          "name": "stdout",
          "text": [
            "300\n"
          ]
        }
      ]
    },
    {
      "cell_type": "code",
      "source": [
        "def canada():\n",
        "  print('gurwinder is from canada')"
      ],
      "metadata": {
        "id": "5YEiYkaLOryA"
      },
      "execution_count": null,
      "outputs": []
    },
    {
      "cell_type": "code",
      "source": [],
      "metadata": {
        "id": "3e0kifjcP3Mm"
      },
      "execution_count": null,
      "outputs": []
    },
    {
      "cell_type": "code",
      "source": [
        "canada()"
      ],
      "metadata": {
        "colab": {
          "base_uri": "https://localhost:8080/"
        },
        "id": "UqQvKqjsOr1r",
        "outputId": "c3ec2b36-079b-410a-c096-f1dcb9e0582e"
      },
      "execution_count": null,
      "outputs": [
        {
          "output_type": "stream",
          "name": "stdout",
          "text": [
            "gurwinder is from canada\n"
          ]
        }
      ]
    },
    {
      "cell_type": "code",
      "source": [
        "def add(x,y):\n",
        "  return x+y"
      ],
      "metadata": {
        "id": "xoTnAzBTPqLg"
      },
      "execution_count": null,
      "outputs": []
    },
    {
      "cell_type": "code",
      "source": [
        "add(7,8)"
      ],
      "metadata": {
        "colab": {
          "base_uri": "https://localhost:8080/"
        },
        "id": "pCEXSrJmQR-z",
        "outputId": "acd38334-3cc1-43b3-e08e-c1888db22b56"
      },
      "execution_count": null,
      "outputs": [
        {
          "output_type": "execute_result",
          "data": {
            "text/plain": [
              "15"
            ]
          },
          "metadata": {},
          "execution_count": 9
        }
      ]
    },
    {
      "cell_type": "code",
      "source": [
        "#\n",
        "def square(x):\n",
        "  print(x**2)"
      ],
      "metadata": {
        "id": "V6LbKQZjQUCH"
      },
      "execution_count": null,
      "outputs": []
    },
    {
      "cell_type": "code",
      "source": [
        "square(5)"
      ],
      "metadata": {
        "colab": {
          "base_uri": "https://localhost:8080/"
        },
        "id": "kPhtqPWDQcYS",
        "outputId": "08d118d7-717b-4ba1-ab4a-c1141f30c8ed"
      },
      "execution_count": null,
      "outputs": [
        {
          "output_type": "stream",
          "name": "stdout",
          "text": [
            "25\n"
          ]
        }
      ]
    },
    {
      "cell_type": "code",
      "source": [
        "square(50)"
      ],
      "metadata": {
        "colab": {
          "base_uri": "https://localhost:8080/"
        },
        "id": "oxkIgjMAQsSE",
        "outputId": "4198774b-6e7d-45bc-c498-9257468a4758"
      },
      "execution_count": null,
      "outputs": [
        {
          "output_type": "stream",
          "name": "stdout",
          "text": [
            "2500\n"
          ]
        }
      ]
    },
    {
      "cell_type": "code",
      "source": [
        "#example:1"
      ],
      "metadata": {
        "id": "MCDdfNhTQwG4"
      },
      "execution_count": null,
      "outputs": []
    },
    {
      "cell_type": "code",
      "source": [
        "quote='gurwinder sir is from canada'"
      ],
      "metadata": {
        "id": "Ecv5vk_cRRyX"
      },
      "execution_count": null,
      "outputs": []
    },
    {
      "cell_type": "code",
      "source": [
        "print(quote)"
      ],
      "metadata": {
        "colab": {
          "base_uri": "https://localhost:8080/"
        },
        "id": "FgQqaH4GRb1A",
        "outputId": "d781350b-5d08-4aa7-c9eb-6b660d2febe3"
      },
      "execution_count": null,
      "outputs": [
        {
          "output_type": "stream",
          "name": "stdout",
          "text": [
            "gurwinder sir is from canada\n"
          ]
        }
      ]
    },
    {
      "cell_type": "code",
      "source": [
        "city=\"canada city\"\n",
        "print(city)"
      ],
      "metadata": {
        "colab": {
          "base_uri": "https://localhost:8080/"
        },
        "id": "9lKunRKgRugG",
        "outputId": "3c64ad29-5bb4-4909-aaac-36e945af1cf0"
      },
      "execution_count": null,
      "outputs": [
        {
          "output_type": "stream",
          "name": "stdout",
          "text": [
            "canada city\n"
          ]
        }
      ]
    },
    {
      "cell_type": "code",
      "source": [
        "split_city=city.split(' ')\n",
        "print(split_city)"
      ],
      "metadata": {
        "colab": {
          "base_uri": "https://localhost:8080/"
        },
        "id": "YXPesf6uR1vR",
        "outputId": "b0ab3c4a-fb13-4e70-d852-e0b3764aa1ad"
      },
      "execution_count": null,
      "outputs": [
        {
          "output_type": "stream",
          "name": "stdout",
          "text": [
            "['canada', 'city']\n"
          ]
        }
      ]
    },
    {
      "cell_type": "code",
      "source": [
        "#list compherension small example\n"
      ],
      "metadata": {
        "id": "U36VGcFoSK5X"
      },
      "execution_count": null,
      "outputs": []
    },
    {
      "cell_type": "code",
      "source": [
        "word_quote = quote.split(' ')\n",
        "\n",
        "first_characters = [word[0] for word in word_quote]\n",
        "print(first_characters)"
      ],
      "metadata": {
        "colab": {
          "base_uri": "https://localhost:8080/"
        },
        "id": "36kTDnSGSOSH",
        "outputId": "6ee1ea77-91d7-430a-8d70-b8ec37529831"
      },
      "execution_count": null,
      "outputs": [
        {
          "output_type": "stream",
          "name": "stdout",
          "text": [
            "['g', 's', 'i', 'f', 'c']\n"
          ]
        }
      ]
    },
    {
      "cell_type": "code",
      "source": [
        "#lets extract the first characters\n"
      ],
      "metadata": {
        "id": "4L1wU6W0Re6-"
      },
      "execution_count": null,
      "outputs": []
    },
    {
      "cell_type": "code",
      "source": [
        "def first_characters(sentence):\n",
        "\n",
        "  word_sentence = sentence.split(' ')\n",
        "\n",
        "  first_characters = [word[0] for word in word_sentence]\n",
        "\n",
        "  return first_characters\n"
      ],
      "metadata": {
        "id": "8OG1CiT0RnqD"
      },
      "execution_count": null,
      "outputs": []
    },
    {
      "cell_type": "code",
      "source": [
        "first_characters(quote)"
      ],
      "metadata": {
        "colab": {
          "base_uri": "https://localhost:8080/"
        },
        "id": "LB6AcJD6TSmU",
        "outputId": "eacdd5df-3442-46c6-890d-afeaff4a7aaa"
      },
      "execution_count": null,
      "outputs": [
        {
          "output_type": "execute_result",
          "data": {
            "text/plain": [
              "['g', 's', 'i', 'f', 'c']"
            ]
          },
          "metadata": {},
          "execution_count": 19
        }
      ]
    },
    {
      "cell_type": "code",
      "source": [
        "#function for checking whether the num is even or odd\n",
        "\n",
        "def even_odd(num):\n",
        "\n",
        "  if num%2==0:\n",
        "    print('even')\n",
        "\n",
        "  else:\n",
        "    print('odd')"
      ],
      "metadata": {
        "id": "vrcMvCsUTXk0"
      },
      "execution_count": null,
      "outputs": []
    },
    {
      "cell_type": "code",
      "source": [
        "even_odd(28)"
      ],
      "metadata": {
        "colab": {
          "base_uri": "https://localhost:8080/"
        },
        "id": "cXjv3AUFUFSv",
        "outputId": "23b8eb7f-7584-4cd8-d313-1a5114f4c093"
      },
      "execution_count": null,
      "outputs": [
        {
          "output_type": "stream",
          "name": "stdout",
          "text": [
            "even\n"
          ]
        }
      ]
    },
    {
      "cell_type": "code",
      "source": [
        "even_odd(27)"
      ],
      "metadata": {
        "colab": {
          "base_uri": "https://localhost:8080/"
        },
        "id": "jsMt8Q_XUHcb",
        "outputId": "d201f73e-35d9-4090-826d-cc13b232cced"
      },
      "execution_count": null,
      "outputs": [
        {
          "output_type": "stream",
          "name": "stdout",
          "text": [
            "odd\n"
          ]
        }
      ]
    },
    {
      "cell_type": "code",
      "source": [
        "#seperating the two words with comma\n",
        "#we have seperate the hellocat with the hello,cat\n",
        "#here we have to write the function to seperate"
      ],
      "metadata": {
        "id": "-_tpDD-dUJOQ"
      },
      "execution_count": null,
      "outputs": []
    },
    {
      "cell_type": "code",
      "source": [
        "\"hellocat\""
      ],
      "metadata": {
        "id": "w0dfy1udU14U"
      },
      "execution_count": null,
      "outputs": []
    },
    {
      "cell_type": "code",
      "source": [
        "\"meenarenny\""
      ],
      "metadata": {
        "id": "BuYn0DhAVYEN"
      },
      "execution_count": null,
      "outputs": []
    },
    {
      "cell_type": "code",
      "source": [
        "def seperating(word_seperate):\n",
        "  word1=word_seperate[0:5]\n",
        "  word2=word_seperate[5:]\n",
        "  word_seperate=word1+','+word2\n",
        "  print(word_seperate)"
      ],
      "metadata": {
        "id": "1KH93czMUt_T"
      },
      "execution_count": null,
      "outputs": []
    },
    {
      "cell_type": "code",
      "source": [
        "seperating(\"hellocat\")"
      ],
      "metadata": {
        "colab": {
          "base_uri": "https://localhost:8080/"
        },
        "id": "h7S6QZNmVRTe",
        "outputId": "19e05d19-3af3-4e4f-a5c5-94d0ba854085"
      },
      "execution_count": null,
      "outputs": [
        {
          "output_type": "stream",
          "name": "stdout",
          "text": [
            "hello,cat\n"
          ]
        }
      ]
    },
    {
      "cell_type": "code",
      "source": [
        "def meena(meena_name):\n",
        "  word1=meena_name[0:5]\n",
        "  word2=meena_name[5:]\n",
        "  word_seperate=word1+' cape gemini'+word2\n",
        "  print(word_seperate)"
      ],
      "metadata": {
        "id": "8ZS_mCqsVWBI"
      },
      "execution_count": null,
      "outputs": []
    },
    {
      "cell_type": "code",
      "source": [
        "meena(\"meenarenny\")"
      ],
      "metadata": {
        "colab": {
          "base_uri": "https://localhost:8080/"
        },
        "id": "6f134LDPV6qi",
        "outputId": "77f780eb-d8f2-4c3e-a49f-354e32aaa7a5"
      },
      "execution_count": null,
      "outputs": [
        {
          "output_type": "stream",
          "name": "stdout",
          "text": [
            "meena cape geminirenny\n"
          ]
        }
      ]
    },
    {
      "cell_type": "code",
      "source": [],
      "metadata": {
        "id": "Oy0E-XaPV-DQ"
      },
      "execution_count": null,
      "outputs": []
    }
  ]
}