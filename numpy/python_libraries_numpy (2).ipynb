{
  "nbformat": 4,
  "nbformat_minor": 0,
  "metadata": {
    "colab": {
      "provenance": []
    },
    "kernelspec": {
      "name": "python3",
      "display_name": "Python 3"
    },
    "language_info": {
      "name": "python"
    }
  },
  "cells": [
    {
      "cell_type": "code",
      "execution_count": null,
      "metadata": {
        "id": "5B0zQPgm8zw8"
      },
      "outputs": [],
      "source": [
        "#python programming is made easier ana more convinent for programmers due\n",
        "#its reusability\n",
        "#python library is a group of interconnected modules.it contains code bundles that can be reused\n",
        "#in different programs"
      ]
    },
    {
      "cell_type": "code",
      "source": [
        "#benfits of python libraries\n",
        "\n",
        "#easy to learn\n",
        "#open source\n",
        "#efficient and multu-platform support\n",
        "#integrates well with enterprise apps and systems"
      ],
      "metadata": {
        "id": "Wmo6SYM3-O1C"
      },
      "execution_count": null,
      "outputs": []
    },
    {
      "cell_type": "code",
      "source": [
        "#breief about the libraries\n",
        "\n",
        "#numpy:-numpy is numerical python which can handle the multidimensional matrices and data\n",
        "#pandas:-it is mostly for the data analysis and data manipulation\n",
        "##matplotlib and seaborn these both are for the vizualization purpose\n",
        "#and these matplotlib and seaborn are used to create charts and pictures\n"
      ],
      "metadata": {
        "id": "DlCQuyvu-oCb"
      },
      "execution_count": null,
      "outputs": []
    },
    {
      "cell_type": "code",
      "source": [
        "#import keyword this pacakages are imported with"
      ],
      "metadata": {
        "id": "LxI41i2O_iAo"
      },
      "execution_count": null,
      "outputs": []
    },
    {
      "cell_type": "code",
      "source": [
        "import math\n",
        "\n",
        "a=16\n",
        "\n",
        "print(math.sqrt(a))"
      ],
      "metadata": {
        "colab": {
          "base_uri": "https://localhost:8080/"
        },
        "id": "HK1TloDt_xz2",
        "outputId": "b65275fb-84d6-4fe4-9971-49c7a0411301"
      },
      "execution_count": null,
      "outputs": [
        {
          "output_type": "stream",
          "name": "stdout",
          "text": [
            "4.0\n"
          ]
        }
      ]
    },
    {
      "cell_type": "code",
      "source": [],
      "metadata": {
        "id": "Lb_L0JaPAC2x"
      },
      "execution_count": null,
      "outputs": []
    },
    {
      "cell_type": "code",
      "source": [
        "#IN the above example we have worked with the one of the method sqrt.\n",
        "#if we directly importing the sqrt from the math module will also work\n"
      ],
      "metadata": {
        "id": "rzCHJJQ_AGgt"
      },
      "execution_count": null,
      "outputs": []
    },
    {
      "cell_type": "code",
      "source": [
        "from math import sqrt,sin"
      ],
      "metadata": {
        "id": "jB-IRExQAXs6"
      },
      "execution_count": null,
      "outputs": []
    },
    {
      "cell_type": "code",
      "source": [
        "a=16\n",
        "b=60\n",
        "\n",
        "print(sqrt(a))\n",
        "print(sqrt(b))"
      ],
      "metadata": {
        "colab": {
          "base_uri": "https://localhost:8080/"
        },
        "id": "r05anG2dAeJS",
        "outputId": "9aad4783-cd1f-46f8-e16e-36f09105eeda"
      },
      "execution_count": null,
      "outputs": [
        {
          "output_type": "stream",
          "name": "stdout",
          "text": [
            "4.0\n",
            "7.745966692414834\n"
          ]
        }
      ]
    },
    {
      "cell_type": "code",
      "source": [
        "#numpy lets start\n",
        "#numpy numpy numpy numpy numpy\n",
        "\n",
        "#numpy numpy numpy numpy\n"
      ],
      "metadata": {
        "id": "sMNPSxIhApeu"
      },
      "execution_count": null,
      "outputs": []
    },
    {
      "cell_type": "code",
      "source": [
        "#advantages of numpy\n",
        "\n",
        "#it privides an array object that is faster than python lists\n",
        "#numpy povides supporting functions\n",
        "#"
      ],
      "metadata": {
        "id": "tenPf0vOA-P8"
      },
      "execution_count": null,
      "outputs": []
    },
    {
      "cell_type": "code",
      "source": [
        "#import numpy as np\n",
        "#means np is the alias name or the short cut name which we are giving to numpy\n",
        "#so in plsce of numpy we can use np\n",
        "#array() function which used for the creation of arrays"
      ],
      "metadata": {
        "id": "m4t9qLTbDLtd"
      },
      "execution_count": null,
      "outputs": []
    },
    {
      "cell_type": "code",
      "source": [
        "import numpy as np\n",
        "arr=np.array([1,2,3,4,5])\n",
        "print(arr)"
      ],
      "metadata": {
        "colab": {
          "base_uri": "https://localhost:8080/"
        },
        "id": "bnNsMn68Bg0O",
        "outputId": "cc67898f-57ef-4fd0-e343-0692bf94a19e"
      },
      "execution_count": null,
      "outputs": [
        {
          "output_type": "stream",
          "name": "stdout",
          "text": [
            "[1 2 3 4 5]\n"
          ]
        }
      ]
    },
    {
      "cell_type": "code",
      "source": [
        "type(array)"
      ],
      "metadata": {
        "colab": {
          "base_uri": "https://localhost:8080/"
        },
        "id": "RK2kSR6-Dsnh",
        "outputId": "6f4890d6-a5e1-44c0-c7e2-d5f3a1d11735"
      },
      "execution_count": null,
      "outputs": [
        {
          "output_type": "execute_result",
          "data": {
            "text/plain": [
              "numpy.ndarray"
            ]
          },
          "metadata": {},
          "execution_count": 5
        }
      ]
    },
    {
      "cell_type": "code",
      "source": [
        "import numpy"
      ],
      "metadata": {
        "id": "6LfPpNjOCfip"
      },
      "execution_count": null,
      "outputs": []
    },
    {
      "cell_type": "code",
      "source": [
        "array=numpy.array([1,4879,9784,4879,4,8,7])\n",
        "print(array)"
      ],
      "metadata": {
        "colab": {
          "base_uri": "https://localhost:8080/"
        },
        "id": "Kd1SkpJLCC0Q",
        "outputId": "39bd3f29-d330-4338-ea0f-69812f2b11a1"
      },
      "execution_count": null,
      "outputs": [
        {
          "output_type": "stream",
          "name": "stdout",
          "text": [
            "[   1 4879 9784 4879    4    8    7]\n"
          ]
        }
      ]
    },
    {
      "cell_type": "code",
      "source": [
        "import numpy as canada"
      ],
      "metadata": {
        "id": "1y0UiDqrChJs"
      },
      "execution_count": null,
      "outputs": []
    },
    {
      "cell_type": "code",
      "source": [
        "array=canada.array([1,2,3,4,5])\n",
        "print(array)"
      ],
      "metadata": {
        "colab": {
          "base_uri": "https://localhost:8080/"
        },
        "id": "MjCInAZ3DCba",
        "outputId": "29fbb14f-8a1b-4a84-fad4-f72b33076766"
      },
      "execution_count": null,
      "outputs": [
        {
          "output_type": "stream",
          "name": "stdout",
          "text": [
            "[1 2 3 4 5]\n"
          ]
        }
      ]
    },
    {
      "cell_type": "code",
      "source": [
        "# 0-D arrays indicate the each value in an array is 0-D array\n",
        "\n",
        "import numpy as np\n",
        "\n",
        "arr=np.array(60)\n",
        "print(arr)"
      ],
      "metadata": {
        "colab": {
          "base_uri": "https://localhost:8080/"
        },
        "id": "AcEIQURSDIfy",
        "outputId": "abdcb1fd-4655-45a8-ff31-b3ee050288c5"
      },
      "execution_count": null,
      "outputs": [
        {
          "output_type": "stream",
          "name": "stdout",
          "text": [
            "60\n"
          ]
        }
      ]
    },
    {
      "cell_type": "code",
      "source": [
        "type(arr)"
      ],
      "metadata": {
        "colab": {
          "base_uri": "https://localhost:8080/"
        },
        "id": "reZ_G0rlEvZF",
        "outputId": "25cb851f-5260-48e0-a9cb-fb057eeb0446"
      },
      "execution_count": null,
      "outputs": [
        {
          "output_type": "execute_result",
          "data": {
            "text/plain": [
              "numpy.ndarray"
            ]
          },
          "metadata": {},
          "execution_count": 6
        }
      ]
    },
    {
      "cell_type": "code",
      "source": [
        "#this is an 1d array\n",
        "array=np.array([1,2,3,4])\n",
        "print(array)"
      ],
      "metadata": {
        "colab": {
          "base_uri": "https://localhost:8080/"
        },
        "id": "QfVRRGpPExHA",
        "outputId": "c6a532b4-db9d-41a6-c708-dff29685c319"
      },
      "execution_count": null,
      "outputs": [
        {
          "output_type": "stream",
          "name": "stdout",
          "text": [
            "[1 2 3 4]\n"
          ]
        }
      ]
    },
    {
      "cell_type": "code",
      "source": [
        "type(array)"
      ],
      "metadata": {
        "colab": {
          "base_uri": "https://localhost:8080/"
        },
        "id": "dILpsswFE2Nu",
        "outputId": "3c20f42f-7648-48a2-b631-64fc511f1ed2"
      },
      "execution_count": null,
      "outputs": [
        {
          "output_type": "execute_result",
          "data": {
            "text/plain": [
              "numpy.ndarray"
            ]
          },
          "metadata": {},
          "execution_count": 9
        }
      ]
    },
    {
      "cell_type": "code",
      "source": [
        "#this is an 2d array\n",
        "array_2=np.array([[10,20,30,40],[50,60,70,80]])\n",
        "print(array_2)"
      ],
      "metadata": {
        "colab": {
          "base_uri": "https://localhost:8080/"
        },
        "id": "tZo9j70IE3u4",
        "outputId": "9bdc34e7-1b7e-4cd3-f788-421fbdd0ba64"
      },
      "execution_count": null,
      "outputs": [
        {
          "output_type": "stream",
          "name": "stdout",
          "text": [
            "[[10 20 30 40]\n",
            " [50 60 70 80]]\n"
          ]
        }
      ]
    },
    {
      "cell_type": "code",
      "source": [
        "#lets see the 3d array now"
      ],
      "metadata": {
        "id": "z1_m7MDQFjTn"
      },
      "execution_count": null,
      "outputs": []
    },
    {
      "cell_type": "code",
      "source": [
        "import numpy as np\n",
        "\n",
        "array3=np.array([[[10,20,30,40],[50,60,70,80]],[[12,13,14,15],[16,17,18,19]]])"
      ],
      "metadata": {
        "id": "stfcAfIgFzb-"
      },
      "execution_count": null,
      "outputs": []
    },
    {
      "cell_type": "code",
      "source": [
        "print(array3)"
      ],
      "metadata": {
        "colab": {
          "base_uri": "https://localhost:8080/"
        },
        "id": "3YciqMW9GO5Z",
        "outputId": "dacf3942-467b-4493-dd88-8ac65e6221ed"
      },
      "execution_count": null,
      "outputs": [
        {
          "output_type": "stream",
          "name": "stdout",
          "text": [
            "[[[10 20 30 40]\n",
            "  [50 60 70 80]]\n",
            "\n",
            " [[12 13 14 15]\n",
            "  [16 17 18 19]]]\n"
          ]
        }
      ]
    },
    {
      "cell_type": "code",
      "source": [
        "type(array3)"
      ],
      "metadata": {
        "colab": {
          "base_uri": "https://localhost:8080/"
        },
        "id": "Xrqp1JalGY1Q",
        "outputId": "d7907e67-e996-43bb-bcd1-46589a30e6e0"
      },
      "execution_count": null,
      "outputs": [
        {
          "output_type": "execute_result",
          "data": {
            "text/plain": [
              "numpy.ndarray"
            ]
          },
          "metadata": {},
          "execution_count": 4
        }
      ]
    },
    {
      "cell_type": "code",
      "source": [
        "#ndim is the function which is used to find the dimensions in which dimwnsion the data is in"
      ],
      "metadata": {
        "id": "1HJaT9FkHget"
      },
      "execution_count": null,
      "outputs": []
    },
    {
      "cell_type": "code",
      "source": [
        "print(array3)\n",
        "print(array3.ndim)"
      ],
      "metadata": {
        "colab": {
          "base_uri": "https://localhost:8080/"
        },
        "id": "hM27uTtmHA5w",
        "outputId": "8d70e64e-b65f-4df7-a44c-cb93c1fc41f7"
      },
      "execution_count": null,
      "outputs": [
        {
          "output_type": "stream",
          "name": "stdout",
          "text": [
            "[[[10 20 30 40]\n",
            "  [50 60 70 80]]\n",
            "\n",
            " [[12 13 14 15]\n",
            "  [16 17 18 19]]]\n",
            "3\n"
          ]
        }
      ]
    },
    {
      "cell_type": "code",
      "source": [
        "print(array_2)\n",
        "print(array_2.ndim)"
      ],
      "metadata": {
        "colab": {
          "base_uri": "https://localhost:8080/"
        },
        "id": "TJuDlcVlGat4",
        "outputId": "e2aa36a6-d8e6-4063-8395-56ac678dff1b"
      },
      "execution_count": null,
      "outputs": [
        {
          "output_type": "stream",
          "name": "stdout",
          "text": [
            "[[10 20 30 40]\n",
            " [50 60 70 80]]\n",
            "2\n"
          ]
        }
      ]
    },
    {
      "cell_type": "code",
      "source": [
        "print(array)\n",
        "print(array.ndim)"
      ],
      "metadata": {
        "colab": {
          "base_uri": "https://localhost:8080/"
        },
        "id": "wjpnzqvyHIJE",
        "outputId": "4bc84782-617f-40c7-a253-dee63c6326be"
      },
      "execution_count": null,
      "outputs": [
        {
          "output_type": "stream",
          "name": "stdout",
          "text": [
            "[1 2 3 4]\n",
            "1\n"
          ]
        }
      ]
    },
    {
      "cell_type": "code",
      "source": [
        "#brod casting refers to the numpys ability to handle array of different shapes during arthematic operations"
      ],
      "metadata": {
        "id": "CoopRs5dHF8p"
      },
      "execution_count": null,
      "outputs": []
    },
    {
      "cell_type": "code",
      "source": [
        "a=np.array([[11,22,33],[10,20,30]])\n",
        "print(a)\n",
        "\n"
      ],
      "metadata": {
        "colab": {
          "base_uri": "https://localhost:8080/"
        },
        "id": "HWOjOgHOHuyu",
        "outputId": "4cb0cfb0-0217-4985-9c63-1def8b7f1163"
      },
      "execution_count": null,
      "outputs": [
        {
          "output_type": "stream",
          "name": "stdout",
          "text": [
            "[[11 22 33]\n",
            " [10 20 30]]\n"
          ]
        }
      ]
    },
    {
      "cell_type": "code",
      "source": [
        "b=4\n",
        "print(b)"
      ],
      "metadata": {
        "colab": {
          "base_uri": "https://localhost:8080/"
        },
        "id": "7szUm2dCH7Sj",
        "outputId": "4877edec-715d-4c88-f213-7158d8ed8bf6"
      },
      "execution_count": null,
      "outputs": [
        {
          "output_type": "stream",
          "name": "stdout",
          "text": [
            "4\n"
          ]
        }
      ]
    },
    {
      "cell_type": "code",
      "source": [
        "c=a+b\n",
        "print(c)"
      ],
      "metadata": {
        "colab": {
          "base_uri": "https://localhost:8080/"
        },
        "id": "aUZ7jiDAH9nD",
        "outputId": "610d91d8-d074-48a4-d5db-c8537fbfb63b"
      },
      "execution_count": null,
      "outputs": [
        {
          "output_type": "stream",
          "name": "stdout",
          "text": [
            "[[15 26 37]\n",
            " [14 24 34]]\n"
          ]
        }
      ]
    },
    {
      "cell_type": "code",
      "source": [
        "#functions of numpy module\n",
        "\n",
        "#numpy array functions\n",
        "\n",
        "#numpy.reshape()\n",
        "#numpy.concatenate()\n",
        "#numpy.shape()"
      ],
      "metadata": {
        "id": "iEPivkSuIAZR"
      },
      "execution_count": null,
      "outputs": []
    },
    {
      "cell_type": "code",
      "source": [
        "print(array3)"
      ],
      "metadata": {
        "colab": {
          "base_uri": "https://localhost:8080/"
        },
        "id": "9Jbs9A2vI396",
        "outputId": "47988f71-9fbc-4411-be64-c2774cfa8371"
      },
      "execution_count": null,
      "outputs": [
        {
          "output_type": "stream",
          "name": "stdout",
          "text": [
            "[[[10 20 30 40]\n",
            "  [50 60 70 80]]\n",
            "\n",
            " [[12 13 14 15]\n",
            "  [16 17 18 19]]]\n"
          ]
        }
      ]
    },
    {
      "cell_type": "code",
      "source": [
        "print(array3.shape)"
      ],
      "metadata": {
        "colab": {
          "base_uri": "https://localhost:8080/"
        },
        "id": "jPncn05rI6Gs",
        "outputId": "bd56c544-3649-4bf9-a4fe-add229ef542a"
      },
      "execution_count": null,
      "outputs": [
        {
          "output_type": "stream",
          "name": "stdout",
          "text": [
            "(2, 2, 4)\n"
          ]
        }
      ]
    },
    {
      "cell_type": "code",
      "source": [
        "print(array_2)"
      ],
      "metadata": {
        "colab": {
          "base_uri": "https://localhost:8080/"
        },
        "id": "6N9edytqJMl3",
        "outputId": "eb780bf8-6270-40eb-bc80-1eadb31dff3f"
      },
      "execution_count": null,
      "outputs": [
        {
          "output_type": "stream",
          "name": "stdout",
          "text": [
            "[[10 20 30 40]\n",
            " [50 60 70 80]]\n"
          ]
        }
      ]
    },
    {
      "cell_type": "code",
      "source": [
        "#shape is used to return the number of rows and columns in a array\n",
        "#shape function is a part of numpy\n",
        "print(array_2.shape)"
      ],
      "metadata": {
        "colab": {
          "base_uri": "https://localhost:8080/"
        },
        "id": "BTSAXKHpJFSP",
        "outputId": "2715e35f-874f-4bea-92db-4c52c9e531d9"
      },
      "execution_count": null,
      "outputs": [
        {
          "output_type": "stream",
          "name": "stdout",
          "text": [
            "(2, 4)\n"
          ]
        }
      ]
    },
    {
      "cell_type": "code",
      "source": [
        "#reshape() function\n",
        "array=np.array([1,2,3,4,5,6,7,8,9,10,11,12])\n",
        "print(array)"
      ],
      "metadata": {
        "colab": {
          "base_uri": "https://localhost:8080/"
        },
        "id": "xqk_lSNkJJXf",
        "outputId": "c3522877-3e9e-4dfe-eb00-a8b981997989"
      },
      "execution_count": null,
      "outputs": [
        {
          "output_type": "stream",
          "name": "stdout",
          "text": [
            "[ 1  2  3  4  5  6  7  8  9 10 11 12]\n"
          ]
        }
      ]
    },
    {
      "cell_type": "code",
      "source": [
        "array=array.reshape(6,2)\n",
        "print(array)"
      ],
      "metadata": {
        "colab": {
          "base_uri": "https://localhost:8080/"
        },
        "id": "S0cEzm48J4rs",
        "outputId": "954d577d-d568-4d03-b150-e2cf213e2747"
      },
      "execution_count": null,
      "outputs": [
        {
          "output_type": "stream",
          "name": "stdout",
          "text": [
            "[[ 1  2]\n",
            " [ 3  4]\n",
            " [ 5  6]\n",
            " [ 7  8]\n",
            " [ 9 10]\n",
            " [11 12]]\n"
          ]
        }
      ]
    },
    {
      "cell_type": "code",
      "source": [
        "#concatenate\n",
        "\n",
        "array1=np.array([10,20,25])\n",
        "array2=np.array([30,40,50])\n",
        "print(array1)\n",
        "print(array2)"
      ],
      "metadata": {
        "colab": {
          "base_uri": "https://localhost:8080/"
        },
        "id": "WWjrQ-JkKBil",
        "outputId": "c243835e-9995-4223-f21f-ef12de07306f"
      },
      "execution_count": null,
      "outputs": [
        {
          "output_type": "stream",
          "name": "stdout",
          "text": [
            "[10 20 25]\n",
            "[30 40 50]\n"
          ]
        }
      ]
    },
    {
      "cell_type": "code",
      "source": [
        "arr=np.concatenate((array1,array2))\n",
        "print(arr)"
      ],
      "metadata": {
        "colab": {
          "base_uri": "https://localhost:8080/"
        },
        "id": "lqZ8OTqFMDAA",
        "outputId": "2c81d102-99f5-49b6-99aa-b989b5274b27"
      },
      "execution_count": null,
      "outputs": [
        {
          "output_type": "stream",
          "name": "stdout",
          "text": [
            "[10 20 25 30 40 50]\n"
          ]
        }
      ]
    },
    {
      "cell_type": "code",
      "source": [
        "#numpy string functions\n",
        "\n",
        "a=np.array(['Hello','World'])\n",
        "b=np.array(['welcome','learners'])\n",
        "\n",
        "print(a)\n",
        "print(b)\n",
        "\n",
        "result=np.char.add(a,b)\n",
        "print(result)"
      ],
      "metadata": {
        "colab": {
          "base_uri": "https://localhost:8080/"
        },
        "id": "z_CuhuaGMNUg",
        "outputId": "2f46aea7-c3f0-4355-bc4d-c80d44e17f89"
      },
      "execution_count": null,
      "outputs": [
        {
          "output_type": "stream",
          "name": "stdout",
          "text": [
            "['Hello' 'World']\n",
            "['welcome' 'learners']\n",
            "['Hellowelcome' 'Worldlearners']\n"
          ]
        }
      ]
    },
    {
      "cell_type": "code",
      "source": [
        "#\n",
        "array=\"hello how are you\"\n",
        "print(array)\n",
        "\n",
        "a=np.char.replace(array,'hello','meena')\n",
        "print(a)"
      ],
      "metadata": {
        "colab": {
          "base_uri": "https://localhost:8080/"
        },
        "id": "taBi_avNNEEg",
        "outputId": "75f8f0f6-99a4-4856-f7d2-7d6fd91897bd"
      },
      "execution_count": null,
      "outputs": [
        {
          "output_type": "stream",
          "name": "stdout",
          "text": [
            "hello how are you\n",
            "meena how are you\n"
          ]
        }
      ]
    },
    {
      "cell_type": "code",
      "source": [
        "#upper case and lower case"
      ],
      "metadata": {
        "id": "3B1-nIbbNwNS"
      },
      "execution_count": null,
      "outputs": []
    },
    {
      "cell_type": "code",
      "source": [
        "upp=np.char.upper(array)\n",
        "print(upp)"
      ],
      "metadata": {
        "colab": {
          "base_uri": "https://localhost:8080/"
        },
        "id": "SBVSh__uN9Md",
        "outputId": "f630458d-9e2f-4142-f575-1d79f5c1f3ff"
      },
      "execution_count": null,
      "outputs": [
        {
          "output_type": "stream",
          "name": "stdout",
          "text": [
            "HELLO HOW ARE YOU\n"
          ]
        }
      ]
    },
    {
      "cell_type": "code",
      "source": [
        "#now lets convert this upper case to lower case"
      ],
      "metadata": {
        "id": "wVjSjveWOGKO"
      },
      "execution_count": null,
      "outputs": []
    },
    {
      "cell_type": "code",
      "source": [
        "lower=np.char.lower(upp)\n",
        "print(lower)"
      ],
      "metadata": {
        "colab": {
          "base_uri": "https://localhost:8080/"
        },
        "id": "Dpnq9NEBONEU",
        "outputId": "3cd1e301-f2e9-46e9-8f81-90fe208dcd08"
      },
      "execution_count": null,
      "outputs": [
        {
          "output_type": "stream",
          "name": "stdout",
          "text": [
            "hello how are you\n"
          ]
        }
      ]
    },
    {
      "cell_type": "code",
      "source": [
        "#arthematic functions in numpy\n",
        "#04 jan 2024\n",
        "\n"
      ],
      "metadata": {
        "id": "cylbJhwnOUf5"
      },
      "execution_count": null,
      "outputs": []
    },
    {
      "cell_type": "code",
      "source": [
        "import numpy as np\n"
      ],
      "metadata": {
        "id": "GiGeRdtiO5hC"
      },
      "execution_count": 1,
      "outputs": []
    },
    {
      "cell_type": "code",
      "source": [
        "a=np.array([10,20,30])\n",
        "b=np.array([20,30,40])\n",
        "c=np.add(a,b)\n",
        "print(c)"
      ],
      "metadata": {
        "colab": {
          "base_uri": "https://localhost:8080/"
        },
        "id": "1_wbVI2HO_m2",
        "outputId": "826f45d0-a163-4364-ec43-a533706fd195"
      },
      "execution_count": 2,
      "outputs": [
        {
          "output_type": "stream",
          "name": "stdout",
          "text": [
            "[30 50 70]\n"
          ]
        }
      ]
    },
    {
      "cell_type": "code",
      "source": [
        "sub=np.subtract(b,a)\n",
        "print(sub)"
      ],
      "metadata": {
        "colab": {
          "base_uri": "https://localhost:8080/"
        },
        "id": "F65ulPDpPOFb",
        "outputId": "bd0eb52f-4d0f-4376-fe57-223b0803949f"
      },
      "execution_count": 5,
      "outputs": [
        {
          "output_type": "stream",
          "name": "stdout",
          "text": [
            "[10 10 10]\n"
          ]
        }
      ]
    },
    {
      "cell_type": "code",
      "source": [
        "mod=np.mod(b,a)\n",
        "print(mod)"
      ],
      "metadata": {
        "colab": {
          "base_uri": "https://localhost:8080/"
        },
        "id": "57wlsIWJPe8r",
        "outputId": "5dda89c4-53f1-4f40-f3b0-42f8ad2e67d0"
      },
      "execution_count": 7,
      "outputs": [
        {
          "output_type": "stream",
          "name": "stdout",
          "text": [
            "[ 0 10 10]\n"
          ]
        }
      ]
    },
    {
      "cell_type": "code",
      "source": [
        "a=np.array([2,2,3,4])\n",
        "b=np.array([2,3,2,3])\n",
        "result = np.power(a,b)\n",
        "print(result)"
      ],
      "metadata": {
        "colab": {
          "base_uri": "https://localhost:8080/"
        },
        "id": "pLJ0zMeDPtxg",
        "outputId": "34935090-5030-4641-f2a4-add39f606e8b"
      },
      "execution_count": 9,
      "outputs": [
        {
          "output_type": "stream",
          "name": "stdout",
          "text": [
            "[ 4  8  9 64]\n"
          ]
        }
      ]
    },
    {
      "cell_type": "code",
      "source": [
        "#numpy statistical functions\n"
      ],
      "metadata": {
        "id": "SDDTSWDnRbuB"
      },
      "execution_count": null,
      "outputs": []
    },
    {
      "cell_type": "code",
      "source": [
        "#median means first a fall its going to make the part into\n",
        "\n",
        "a=np.array([1,3,4,5,6,7,8,9])\n",
        "result=np.median(a)\n",
        "print(result)"
      ],
      "metadata": {
        "colab": {
          "base_uri": "https://localhost:8080/"
        },
        "id": "_6Pbwhz5R0zn",
        "outputId": "c722dac6-b06c-4e08-a99d-6d5f1ccf617d"
      },
      "execution_count": 12,
      "outputs": [
        {
          "output_type": "stream",
          "name": "stdout",
          "text": [
            "5.5\n"
          ]
        }
      ]
    },
    {
      "cell_type": "code",
      "source": [
        "c=np.mean(a)\n",
        "print(c)"
      ],
      "metadata": {
        "colab": {
          "base_uri": "https://localhost:8080/"
        },
        "id": "YMeTCqeKR1ob",
        "outputId": "e622c846-a2e8-4971-813f-c2b76fd5aa4f"
      },
      "execution_count": 13,
      "outputs": [
        {
          "output_type": "stream",
          "name": "stdout",
          "text": [
            "5.375\n"
          ]
        }
      ]
    },
    {
      "cell_type": "code",
      "source": [
        "#indexing part\n",
        "\n"
      ],
      "metadata": {
        "id": "_QMS7djAS9dg"
      },
      "execution_count": null,
      "outputs": []
    },
    {
      "cell_type": "code",
      "source": [
        "#taking the same example to print the element using the indexing\n",
        "print(a[7])"
      ],
      "metadata": {
        "colab": {
          "base_uri": "https://localhost:8080/"
        },
        "id": "n898lsGtTON4",
        "outputId": "a22e717d-d872-4e03-b684-a22530b8bcc4"
      },
      "execution_count": 14,
      "outputs": [
        {
          "output_type": "stream",
          "name": "stdout",
          "text": [
            "9\n"
          ]
        }
      ]
    },
    {
      "cell_type": "code",
      "source": [
        "num_inde=np.array(['gurwinder sir',\"meena mam\"])\n",
        "print(num_inde)"
      ],
      "metadata": {
        "colab": {
          "base_uri": "https://localhost:8080/"
        },
        "id": "lGWKaSyUTeyy",
        "outputId": "6b270ca4-e70d-4511-f29d-ec3c1fefe68b"
      },
      "execution_count": 15,
      "outputs": [
        {
          "output_type": "stream",
          "name": "stdout",
          "text": [
            "['gurwinder sir' 'meena mam']\n"
          ]
        }
      ]
    },
    {
      "cell_type": "code",
      "source": [
        "num_inde[1]"
      ],
      "metadata": {
        "colab": {
          "base_uri": "https://localhost:8080/",
          "height": 36
        },
        "id": "9b9-Z6viTp8B",
        "outputId": "429082b2-b4cf-4a19-cf1c-8a108024450a"
      },
      "execution_count": 16,
      "outputs": [
        {
          "output_type": "execute_result",
          "data": {
            "text/plain": [
              "'meena mam'"
            ],
            "application/vnd.google.colaboratory.intrinsic+json": {
              "type": "string"
            }
          },
          "metadata": {},
          "execution_count": 16
        }
      ]
    },
    {
      "cell_type": "code",
      "source": [
        "print(a)"
      ],
      "metadata": {
        "colab": {
          "base_uri": "https://localhost:8080/"
        },
        "id": "M0aY8Z4iTsRf",
        "outputId": "d0e43f1a-e0fc-44ef-c5c2-9517507890ba"
      },
      "execution_count": 18,
      "outputs": [
        {
          "output_type": "stream",
          "name": "stdout",
          "text": [
            "[1 3 4 5 6 7 8 9]\n"
          ]
        }
      ]
    },
    {
      "cell_type": "code",
      "source": [
        "c=a[0]+a[1]\n",
        "print(c)"
      ],
      "metadata": {
        "colab": {
          "base_uri": "https://localhost:8080/"
        },
        "id": "aeZvkEDHT161",
        "outputId": "4abab1e9-7649-4e48-a711-032d931162d5"
      },
      "execution_count": 19,
      "outputs": [
        {
          "output_type": "stream",
          "name": "stdout",
          "text": [
            "4\n"
          ]
        }
      ]
    },
    {
      "cell_type": "code",
      "source": [
        "y=np.array([[10,20,30,40,50],[50,60,70,80,90]])\n",
        "print(y)"
      ],
      "metadata": {
        "colab": {
          "base_uri": "https://localhost:8080/"
        },
        "id": "CZcILIfhUAC2",
        "outputId": "5f0a0580-8eb9-4a16-d998-888c687d2113"
      },
      "execution_count": 21,
      "outputs": [
        {
          "output_type": "stream",
          "name": "stdout",
          "text": [
            "[[10 20 30 40 50]\n",
            " [50 60 70 80 90]]\n"
          ]
        }
      ]
    },
    {
      "cell_type": "code",
      "source": [
        "y[0]"
      ],
      "metadata": {
        "colab": {
          "base_uri": "https://localhost:8080/"
        },
        "id": "HtLjfOtoUUYP",
        "outputId": "7b542322-1d8d-4191-b958-0a4f4424bd38"
      },
      "execution_count": 22,
      "outputs": [
        {
          "output_type": "execute_result",
          "data": {
            "text/plain": [
              "array([10, 20, 30, 40, 50])"
            ]
          },
          "metadata": {},
          "execution_count": 22
        }
      ]
    },
    {
      "cell_type": "code",
      "source": [
        "y[1]"
      ],
      "metadata": {
        "colab": {
          "base_uri": "https://localhost:8080/"
        },
        "id": "4Ns1vekQUZmQ",
        "outputId": "941bcf61-9c84-4981-f87f-333d93c3e881"
      },
      "execution_count": 23,
      "outputs": [
        {
          "output_type": "execute_result",
          "data": {
            "text/plain": [
              "array([50, 60, 70, 80, 90])"
            ]
          },
          "metadata": {},
          "execution_count": 23
        }
      ]
    },
    {
      "cell_type": "code",
      "source": [
        "y[0,1:3]"
      ],
      "metadata": {
        "colab": {
          "base_uri": "https://localhost:8080/"
        },
        "id": "UTIzlUnhUba5",
        "outputId": "cc82c45f-10fe-48c8-c8f8-831b1616d0d8"
      },
      "execution_count": 28,
      "outputs": [
        {
          "output_type": "execute_result",
          "data": {
            "text/plain": [
              "array([20, 30])"
            ]
          },
          "metadata": {},
          "execution_count": 28
        }
      ]
    },
    {
      "cell_type": "code",
      "source": [],
      "metadata": {
        "id": "3sE8RG5EVdWG"
      },
      "execution_count": null,
      "outputs": []
    },
    {
      "cell_type": "code",
      "source": [
        "#with these also we can perform the addition and substraction"
      ],
      "metadata": {
        "id": "P32hfAsOVIeT"
      },
      "execution_count": null,
      "outputs": []
    },
    {
      "cell_type": "code",
      "source": [
        "y[0,1]+y[1,2]"
      ],
      "metadata": {
        "colab": {
          "base_uri": "https://localhost:8080/"
        },
        "id": "ST0R9GLjVbhS",
        "outputId": "911bc004-5faf-43c8-b164-d0d11cc5b71f"
      },
      "execution_count": 29,
      "outputs": [
        {
          "output_type": "execute_result",
          "data": {
            "text/plain": [
              "90"
            ]
          },
          "metadata": {},
          "execution_count": 29
        }
      ]
    },
    {
      "cell_type": "code",
      "source": [
        "#three dimensional example of the numpy\n",
        "y=np.array([[[10,20,30,40,50],[50,60,70,80,90]],[[10,20,30,40,50],[50,60,70,80,90]]])\n",
        "print(y)\n"
      ],
      "metadata": {
        "colab": {
          "base_uri": "https://localhost:8080/"
        },
        "id": "KI6EHe6TVkxy",
        "outputId": "a5e23803-04d8-47c3-9b5a-d7838bd2f90d"
      },
      "execution_count": 31,
      "outputs": [
        {
          "output_type": "stream",
          "name": "stdout",
          "text": [
            "[[[10 20 30 40 50]\n",
            "  [50 60 70 80 90]]\n",
            "\n",
            " [[10 20 30 40 50]\n",
            "  [50 60 70 80 90]]]\n"
          ]
        }
      ]
    },
    {
      "cell_type": "code",
      "source": [
        "y.ndim"
      ],
      "metadata": {
        "colab": {
          "base_uri": "https://localhost:8080/"
        },
        "id": "Ih-kRmA2W34j",
        "outputId": "a4b874af-3556-422e-fc78-2bc696d97a6b"
      },
      "execution_count": 32,
      "outputs": [
        {
          "output_type": "execute_result",
          "data": {
            "text/plain": [
              "3"
            ]
          },
          "metadata": {},
          "execution_count": 32
        }
      ]
    },
    {
      "cell_type": "code",
      "source": [
        "y[0,1,4]"
      ],
      "metadata": {
        "colab": {
          "base_uri": "https://localhost:8080/"
        },
        "id": "9QkEMfpXW-Af",
        "outputId": "e33586f1-1c6c-4a7e-a440-c2bae25ab4ae"
      },
      "execution_count": 33,
      "outputs": [
        {
          "output_type": "execute_result",
          "data": {
            "text/plain": [
              "90"
            ]
          },
          "metadata": {},
          "execution_count": 33
        }
      ]
    },
    {
      "cell_type": "code",
      "source": [
        "y[-1,-2,3]"
      ],
      "metadata": {
        "colab": {
          "base_uri": "https://localhost:8080/"
        },
        "id": "757661JWYXdO",
        "outputId": "b6be7634-6694-40e7-94cc-3c9e8a8bcd2a"
      },
      "execution_count": 36,
      "outputs": [
        {
          "output_type": "execute_result",
          "data": {
            "text/plain": [
              "40"
            ]
          },
          "metadata": {},
          "execution_count": 36
        }
      ]
    },
    {
      "cell_type": "code",
      "source": [
        "#slicing ,step size ,negative insexing which we have seen earlier is\n",
        "#same here also in numpy there is no difference thats it\n"
      ],
      "metadata": {
        "id": "4cBfWRsNXnZD"
      },
      "execution_count": null,
      "outputs": []
    },
    {
      "cell_type": "code",
      "source": [
        "#till now numpy has completed just pls\n",
        "#from tomorrow lets start pandas 05 jan 2024 we wil start pandas"
      ],
      "metadata": {
        "id": "HoMwdIT5YFYB"
      },
      "execution_count": null,
      "outputs": []
    },
    {
      "cell_type": "code",
      "source": [],
      "metadata": {
        "id": "YIHYBe5uYFyp"
      },
      "execution_count": null,
      "outputs": []
    },
    {
      "cell_type": "code",
      "source": [],
      "metadata": {
        "id": "MYMNrJPaYF3H"
      },
      "execution_count": null,
      "outputs": []
    },
    {
      "cell_type": "code",
      "source": [],
      "metadata": {
        "id": "rW5SqAniYF7W"
      },
      "execution_count": null,
      "outputs": []
    }
  ]
}