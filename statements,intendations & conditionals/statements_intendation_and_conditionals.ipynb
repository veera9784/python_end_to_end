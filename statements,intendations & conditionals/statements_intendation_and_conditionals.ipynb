{
  "nbformat": 4,
  "nbformat_minor": 0,
  "metadata": {
    "colab": {
      "provenance": []
    },
    "kernelspec": {
      "name": "python3",
      "display_name": "Python 3"
    },
    "language_info": {
      "name": "python"
    }
  },
  "cells": [
    {
      "cell_type": "code",
      "execution_count": null,
      "metadata": {
        "id": "3Nplb3_v0tzu"
      },
      "outputs": [],
      "source": [
        "#understand the difference between the statements and expressions\n",
        "\n",
        "#ststement is an instruction that the python intrepreter can execute\n",
        "#we have seen the assignment statements so far\n",
        "\n",
        "#an expression is a combination of values ,variables operators and calls to functions\n"
      ]
    },
    {
      "cell_type": "code",
      "source": [
        "#assignment statement\n",
        "x=4879\n"
      ],
      "metadata": {
        "id": "ICo0-l-r4m8y"
      },
      "execution_count": null,
      "outputs": []
    },
    {
      "cell_type": "code",
      "source": [
        "x=4879 #this is an assignment statement\n",
        "print('hello gurwinder')\n",
        "if x>0: #if statement\n",
        "  print('yes greater')"
      ],
      "metadata": {
        "colab": {
          "base_uri": "https://localhost:8080/"
        },
        "id": "824tpXVG4rfC",
        "outputId": "ccc55980-db98-4abe-e830-b89f72fedcf4"
      },
      "execution_count": null,
      "outputs": [
        {
          "output_type": "stream",
          "name": "stdout",
          "text": [
            "hello gurwinder\n",
            "yes greater\n"
          ]
        }
      ]
    },
    {
      "cell_type": "code",
      "source": [
        "# remember that expression can be a part of statement\n",
        "#assignment statement is y=x+3,\n",
        "#here expression is x+3\n",
        "#and the entire line is a statement that assigns the result to the variable y"
      ],
      "metadata": {
        "id": "A3PJjXZM5qcG"
      },
      "execution_count": null,
      "outputs": []
    },
    {
      "cell_type": "code",
      "source": [
        "#multi line statements"
      ],
      "metadata": {
        "id": "eEbs_vnd6nUR"
      },
      "execution_count": null,
      "outputs": []
    },
    {
      "cell_type": "code",
      "source": [
        "x=1\n",
        "y=2+5\n",
        "z=3"
      ],
      "metadata": {
        "id": "hn8-T07w61KE"
      },
      "execution_count": null,
      "outputs": []
    },
    {
      "cell_type": "code",
      "source": [
        "a=1+2+3+4"
      ],
      "metadata": {
        "id": "d473XRBn6438"
      },
      "execution_count": null,
      "outputs": []
    },
    {
      "cell_type": "code",
      "source": [
        "print(a)"
      ],
      "metadata": {
        "colab": {
          "base_uri": "https://localhost:8080/"
        },
        "id": "F1sxPsAj68PE",
        "outputId": "cf5d0e13-0aa3-4c8a-d65f-f92403446c1b"
      },
      "execution_count": null,
      "outputs": [
        {
          "output_type": "stream",
          "name": "stdout",
          "text": [
            "10\n"
          ]
        }
      ]
    },
    {
      "cell_type": "code",
      "source": [
        "#intendatition in python\n"
      ],
      "metadata": {
        "id": "klIMGXGC6-Eu"
      },
      "execution_count": null,
      "outputs": []
    },
    {
      "cell_type": "code",
      "source": [
        "a=2\n",
        "b=20"
      ],
      "metadata": {
        "id": "pxJY0AjL7Smf"
      },
      "execution_count": null,
      "outputs": []
    },
    {
      "cell_type": "code",
      "source": [
        "if a>20:\n",
        "   print('yes it is greater')\n",
        "else:\n",
        "                                                    print('not greater')\n"
      ],
      "metadata": {
        "colab": {
          "base_uri": "https://localhost:8080/"
        },
        "id": "9yfsA-jJ7ch3",
        "outputId": "da5b09dc-d040-4811-a1ca-36e016f59961"
      },
      "execution_count": null,
      "outputs": [
        {
          "output_type": "stream",
          "name": "stdout",
          "text": [
            "not greater\n"
          ]
        }
      ]
    },
    {
      "cell_type": "code",
      "source": [
        "if a>50:\n",
        "  print('intendation')\n",
        "\n",
        "else:\n",
        "  print('not intendation')\n",
        "\n",
        "\n",
        "\n"
      ],
      "metadata": {
        "colab": {
          "base_uri": "https://localhost:8080/"
        },
        "id": "DM66vXnG7kYP",
        "outputId": "6b4c6652-e73a-4171-a895-72533de7d5bd"
      },
      "execution_count": null,
      "outputs": [
        {
          "output_type": "stream",
          "name": "stdout",
          "text": [
            "not intendation\n"
          ]
        }
      ]
    },
    {
      "cell_type": "code",
      "source": [
        "#conditional statements\n",
        "#if statements are like for if condition is true certain thing wil execute\n",
        "#if condition is false that going to check for the alternative one\n",
        "\n",
        "#if case1\n",
        " #performing action\n",
        "# elif (case 2)_\n",
        "#performing action\n",
        "\n",
        "#else:\n",
        " #pewrforming action\n",
        "\n"
      ],
      "metadata": {
        "id": "JbzI1GEO8nT_"
      },
      "execution_count": null,
      "outputs": []
    },
    {
      "cell_type": "code",
      "source": [
        "if case1:\n",
        "  #do some action\n",
        "  elif case2:\n",
        "    #do some action\n",
        "  else:\n",
        "    # do some action\n"
      ],
      "metadata": {
        "id": "F9jNe7ry-kop"
      },
      "execution_count": null,
      "outputs": []
    },
    {
      "cell_type": "code",
      "source": [
        "b==20"
      ],
      "metadata": {
        "colab": {
          "base_uri": "https://localhost:8080/"
        },
        "id": "K5SCDo4O-zlv",
        "outputId": "3d134ddb-f21a-4f55-be7c-3606f068eb91"
      },
      "execution_count": null,
      "outputs": [
        {
          "output_type": "execute_result",
          "data": {
            "text/plain": [
              "True"
            ]
          },
          "metadata": {},
          "execution_count": 19
        }
      ]
    },
    {
      "cell_type": "code",
      "source": [
        "if True:\n",
        "  print('yes true')"
      ],
      "metadata": {
        "colab": {
          "base_uri": "https://localhost:8080/"
        },
        "id": "aQpiVcyt-1Ov",
        "outputId": "8c203130-95cf-415c-a47a-edb75fcdb2f4"
      },
      "execution_count": null,
      "outputs": [
        {
          "output_type": "stream",
          "name": "stdout",
          "text": [
            "yes true\n"
          ]
        }
      ]
    },
    {
      "cell_type": "code",
      "source": [
        "if False:\n",
        "  print('false')"
      ],
      "metadata": {
        "id": "LX_ggGzQ-8yV"
      },
      "execution_count": null,
      "outputs": []
    },
    {
      "cell_type": "code",
      "source": [
        "x=False\n",
        "y=True\n",
        "\n",
        "if x ==True:\n",
        "  print(\"yes true\")\n",
        "else:\n",
        "  print('yes it is not correct')"
      ],
      "metadata": {
        "colab": {
          "base_uri": "https://localhost:8080/"
        },
        "id": "gB1tFwFd_AKH",
        "outputId": "f3a25b0f-d3ee-44cb-bbc7-4debbfc30f4b"
      },
      "execution_count": null,
      "outputs": [
        {
          "output_type": "stream",
          "name": "stdout",
          "text": [
            "yes it is not correct\n"
          ]
        }
      ]
    },
    {
      "cell_type": "code",
      "source": [
        "# lets see with more example tomorrow\n",
        "#20dec2023 we have to continue from here for harsha trainings"
      ],
      "metadata": {
        "id": "oFzQ94so_OU9"
      },
      "execution_count": null,
      "outputs": []
    },
    {
      "cell_type": "code",
      "source": [
        "\"\"\"gurwinder is from canada\"\"\"\n"
      ],
      "metadata": {
        "colab": {
          "base_uri": "https://localhost:8080/",
          "height": 36
        },
        "id": "OBHKK9eE96a6",
        "outputId": "dd2babb1-7dfc-48cd-b6df-8b2cc15341bd"
      },
      "execution_count": 3,
      "outputs": [
        {
          "output_type": "execute_result",
          "data": {
            "text/plain": [
              "'gurwinder is from canada'"
            ],
            "application/vnd.google.colaboratory.intrinsic+json": {
              "type": "string"
            }
          },
          "metadata": {},
          "execution_count": 3
        }
      ]
    },
    {
      "cell_type": "code",
      "source": [
        "#one example of if elif and else"
      ],
      "metadata": {
        "id": "ho71D8dN-jBm"
      },
      "execution_count": null,
      "outputs": []
    },
    {
      "cell_type": "code",
      "source": [
        "city='canada'\n",
        "\n",
        "if city=='usa':\n",
        "  print('this is usa')\n",
        "elif city=='canada':\n",
        "  print('condition satisfied')\n",
        "else:\n",
        "  print('above conditions are not satisfied')"
      ],
      "metadata": {
        "colab": {
          "base_uri": "https://localhost:8080/"
        },
        "id": "fH0avfVi-rF6",
        "outputId": "da98f903-1435-4520-9550-20cc6d5d53dd"
      },
      "execution_count": 5,
      "outputs": [
        {
          "output_type": "stream",
          "name": "stdout",
          "text": [
            "condition satisfied\n"
          ]
        }
      ]
    },
    {
      "cell_type": "code",
      "source": [
        "#nested if\n",
        "#nested if means if inside if condition\n",
        "\n",
        "#if first condition which we have written if that is true means the below if condition will executes\n",
        "#if not that goe3s to the else part\n"
      ],
      "metadata": {
        "id": "K2H7-o5j-rJU"
      },
      "execution_count": null,
      "outputs": []
    },
    {
      "cell_type": "code",
      "source": [
        "num1=2\n",
        "num2= 9\n",
        "\n",
        "if num1>0:\n",
        "  if num2<10:\n",
        "    print(num1+num2)\n",
        "  else:\n",
        "    print(\"should be greaterb than 10\")\n",
        "\n",
        ""
      ],
      "metadata": {
        "colab": {
          "base_uri": "https://localhost:8080/"
        },
        "id": "y6WXsrneAfc_",
        "outputId": "aa273407-5b38-4599-cc02-060ff2fae2ed"
      },
      "execution_count": 7,
      "outputs": [
        {
          "output_type": "stream",
          "name": "stdout",
          "text": [
            "11\n"
          ]
        }
      ]
    },
    {
      "cell_type": "code",
      "source": [
        "num1=-2\n",
        "num2= 9\n",
        "\n",
        "if num1>0:\n",
        "  if num2<10:\n",
        "    print(num1+num2)\n",
        "else:\n",
        "    print(\"should be greaterb than 10\")\n"
      ],
      "metadata": {
        "colab": {
          "base_uri": "https://localhost:8080/"
        },
        "id": "iaSK3W0_A3x2",
        "outputId": "39f54934-ea1a-4566-86e1-08c3baac4295"
      },
      "execution_count": 8,
      "outputs": [
        {
          "output_type": "stream",
          "name": "stdout",
          "text": [
            "should be greaterb than 10\n"
          ]
        }
      ]
    },
    {
      "cell_type": "code",
      "source": [
        "num1=2\n",
        "num2= 9\n",
        "\n",
        "if num1>0:\n",
        "  if num2<10:\n",
        "    print(num1+num2)\n",
        "  else:\n",
        "    print(\"should be greaterb than 10\")\n"
      ],
      "metadata": {
        "colab": {
          "base_uri": "https://localhost:8080/"
        },
        "id": "QDS5F7FQB1M_",
        "outputId": "cddd95f9-678e-4a8e-e524-c10efe31d702"
      },
      "execution_count": 10,
      "outputs": [
        {
          "output_type": "stream",
          "name": "stdout",
          "text": [
            "11\n"
          ]
        }
      ]
    },
    {
      "cell_type": "code",
      "source": [
        "num1=2\n",
        "num2= 9\n",
        "\n",
        "if num1>0:\n",
        "  if num2>10:\n",
        "    print(num1+num2)\n",
        "  else:\n",
        "    print(\"should be greaterb than 10\")\n"
      ],
      "metadata": {
        "colab": {
          "base_uri": "https://localhost:8080/"
        },
        "id": "Le_wzlgGCnyN",
        "outputId": "25f88f0a-75c0-4c94-9ace-3c6bdef3da8c"
      },
      "execution_count": 11,
      "outputs": [
        {
          "output_type": "stream",
          "name": "stdout",
          "text": [
            "should be greaterb than 10\n"
          ]
        }
      ]
    },
    {
      "cell_type": "code",
      "source": [],
      "metadata": {
        "id": "nccCqmJeCwVY"
      },
      "execution_count": null,
      "outputs": []
    }
  ]
}