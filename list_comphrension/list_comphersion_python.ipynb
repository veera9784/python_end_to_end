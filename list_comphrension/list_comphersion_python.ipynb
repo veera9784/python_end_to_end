{
  "nbformat": 4,
  "nbformat_minor": 0,
  "metadata": {
    "colab": {
      "provenance": []
    },
    "kernelspec": {
      "name": "python3",
      "display_name": "Python 3"
    },
    "language_info": {
      "name": "python"
    }
  },
  "cells": [
    {
      "cell_type": "code",
      "execution_count": null,
      "metadata": {
        "id": "_BA5M9BlUELw"
      },
      "outputs": [],
      "source": [
        "#list comphrension is same like for loop only\n",
        "#but list comphrension can be writter in single line but for loop will be writter in\n",
        "#multiple lines"
      ]
    },
    {
      "cell_type": "code",
      "source": [
        "my_list=[1,2,3,4,6,8]\n",
        "print(my_list)"
      ],
      "metadata": {
        "colab": {
          "base_uri": "https://localhost:8080/"
        },
        "id": "5pk138LeVDQN",
        "outputId": "2e552bb8-6b1a-413d-87c8-af759fbaef64"
      },
      "execution_count": 2,
      "outputs": [
        {
          "output_type": "stream",
          "name": "stdout",
          "text": [
            "[1, 2, 3, 4, 6, 8]\n"
          ]
        }
      ]
    },
    {
      "cell_type": "code",
      "source": [
        "#for loop example to diffrentiate the the coming list comphrehension example'\n",
        "for i in my_list:\n",
        "  i=i**2\n",
        "  print(i)"
      ],
      "metadata": {
        "colab": {
          "base_uri": "https://localhost:8080/"
        },
        "id": "R7srsOgAU5gR",
        "outputId": "ffb55750-6697-4646-a95b-df2d98bc13c2"
      },
      "execution_count": 3,
      "outputs": [
        {
          "output_type": "stream",
          "name": "stdout",
          "text": [
            "1\n",
            "4\n",
            "9\n",
            "16\n",
            "36\n",
            "64\n"
          ]
        }
      ]
    },
    {
      "cell_type": "code",
      "source": [
        "# same above code using the list comphrension\n",
        "comph=[i**2 for i in my_list]\n",
        "print(comph)\n"
      ],
      "metadata": {
        "colab": {
          "base_uri": "https://localhost:8080/"
        },
        "id": "aMReQ166VPeu",
        "outputId": "a17eeef1-b3e9-4174-b3dc-ed1ba7d25f8a"
      },
      "execution_count": 4,
      "outputs": [
        {
          "output_type": "stream",
          "name": "stdout",
          "text": [
            "[1, 4, 9, 16, 36, 64]\n"
          ]
        }
      ]
    },
    {
      "cell_type": "code",
      "source": [
        "print(my_list)"
      ],
      "metadata": {
        "colab": {
          "base_uri": "https://localhost:8080/"
        },
        "id": "3fCD4I5FV7nD",
        "outputId": "0c1a5b38-9f80-4be1-fd7a-79bf65027a09"
      },
      "execution_count": 5,
      "outputs": [
        {
          "output_type": "stream",
          "name": "stdout",
          "text": [
            "[1, 2, 3, 4, 6, 8]\n"
          ]
        }
      ]
    },
    {
      "cell_type": "code",
      "source": [
        "#lets see first with the for loop after we can verify with the list comphrension\n",
        "for i in my_list:\n",
        "  i=i**2\n",
        "  if i%2==0:\n",
        "    print(i)\n"
      ],
      "metadata": {
        "colab": {
          "base_uri": "https://localhost:8080/"
        },
        "id": "z5XzHe3EV-5M",
        "outputId": "9d2d4fd9-3d03-40f0-93ee-fd26a342f7a2"
      },
      "execution_count": 6,
      "outputs": [
        {
          "output_type": "stream",
          "name": "stdout",
          "text": [
            "4\n",
            "16\n",
            "36\n",
            "64\n"
          ]
        }
      ]
    },
    {
      "cell_type": "code",
      "source": [
        "#lets do the same above task with the list comphrension\n",
        "\n",
        "list1=[i**2 for i in my_list if i%2==0]\n",
        "print(list1)"
      ],
      "metadata": {
        "colab": {
          "base_uri": "https://localhost:8080/"
        },
        "id": "KDeoWWm5V_IF",
        "outputId": "c972a6aa-cd07-4e11-d7b0-b4ba66fc2dd1"
      },
      "execution_count": 7,
      "outputs": [
        {
          "output_type": "stream",
          "name": "stdout",
          "text": [
            "[4, 16, 36, 64]\n"
          ]
        }
      ]
    },
    {
      "cell_type": "code",
      "source": [],
      "metadata": {
        "id": "9zUa8xgvV_Uc"
      },
      "execution_count": null,
      "outputs": []
    },
    {
      "cell_type": "code",
      "source": [
        "print(list1)\n",
        "print(list2)"
      ],
      "metadata": {
        "colab": {
          "base_uri": "https://localhost:8080/"
        },
        "id": "TojSh5cVX8V_",
        "outputId": "8bb3e3df-4445-458c-ca6c-6e348328e8d9"
      },
      "execution_count": 9,
      "outputs": [
        {
          "output_type": "stream",
          "name": "stdout",
          "text": [
            "['apple', 'banana', 'cherry']\n",
            "['red', 'big', 'tasty']\n"
          ]
        }
      ]
    },
    {
      "cell_type": "code",
      "source": [
        "list1=[1,2,3,4]\n",
        "list2=[3,4,5,6]\n",
        "print(list1)\n",
        "print(list2)"
      ],
      "metadata": {
        "colab": {
          "base_uri": "https://localhost:8080/"
        },
        "id": "eF27hXfcYZFr",
        "outputId": "cec9f70d-6566-4217-c5a7-e5026f677891"
      },
      "execution_count": 11,
      "outputs": [
        {
          "output_type": "stream",
          "name": "stdout",
          "text": [
            "[1, 2, 3, 4]\n",
            "[3, 4, 5, 6]\n"
          ]
        }
      ]
    },
    {
      "cell_type": "code",
      "source": [
        "for i in list1:\n",
        "  print(i)"
      ],
      "metadata": {
        "colab": {
          "base_uri": "https://localhost:8080/"
        },
        "id": "I905fyicZG1W",
        "outputId": "74e04b3f-68c2-46ba-e5a7-4899718cbdd7"
      },
      "execution_count": 12,
      "outputs": [
        {
          "output_type": "stream",
          "name": "stdout",
          "text": [
            "1\n",
            "2\n",
            "3\n",
            "4\n"
          ]
        }
      ]
    },
    {
      "cell_type": "code",
      "source": [
        "#nested for loop\n",
        "\n",
        "list1=['apple',\"banana\",'cherry',\"mango\"]\n",
        "list2=['red',\"big\",'tasty',\"very tasty\"]"
      ],
      "metadata": {
        "id": "DmvDqXd9XB0Y"
      },
      "execution_count": 15,
      "outputs": []
    },
    {
      "cell_type": "code",
      "source": [
        "for i in list1:\n",
        "  for j in list2:\n",
        "    print(i,j)"
      ],
      "metadata": {
        "colab": {
          "base_uri": "https://localhost:8080/"
        },
        "id": "SNm0by4CZw2X",
        "outputId": "0f9c32c7-eadc-4f0a-beb7-2649c0fe66f5"
      },
      "execution_count": 17,
      "outputs": [
        {
          "output_type": "stream",
          "name": "stdout",
          "text": [
            "apple red\n",
            "apple big\n",
            "apple tasty\n",
            "apple very tasty\n",
            "banana red\n",
            "banana big\n",
            "banana tasty\n",
            "banana very tasty\n",
            "cherry red\n",
            "cherry big\n",
            "cherry tasty\n",
            "cherry very tasty\n",
            "mango red\n",
            "mango big\n",
            "mango tasty\n",
            "mango very tasty\n"
          ]
        }
      ]
    },
    {
      "cell_type": "code",
      "source": [
        "for i in list1:\n",
        "  print(i)"
      ],
      "metadata": {
        "colab": {
          "base_uri": "https://localhost:8080/"
        },
        "id": "msh1F9wfZPyT",
        "outputId": "e283c648-0710-4f9b-f5b5-444638867649"
      },
      "execution_count": 14,
      "outputs": [
        {
          "output_type": "stream",
          "name": "stdout",
          "text": [
            "apple\n",
            "banana\n",
            "cherry\n"
          ]
        }
      ]
    },
    {
      "cell_type": "code",
      "source": [],
      "metadata": {
        "id": "NM4Sd71RZUhi"
      },
      "execution_count": null,
      "outputs": []
    },
    {
      "cell_type": "code",
      "source": [
        "for i in list1:\n",
        "  for j in list2:\n",
        "    print(i,j)"
      ],
      "metadata": {
        "colab": {
          "base_uri": "https://localhost:8080/"
        },
        "id": "Vw4l06W4X_O9",
        "outputId": "be825fa7-fa47-4544-a85a-f097494a7695"
      },
      "execution_count": 10,
      "outputs": [
        {
          "output_type": "stream",
          "name": "stdout",
          "text": [
            "apple red\n",
            "apple big\n",
            "apple tasty\n",
            "banana red\n",
            "banana big\n",
            "banana tasty\n",
            "cherry red\n",
            "cherry big\n",
            "cherry tasty\n"
          ]
        }
      ]
    },
    {
      "cell_type": "code",
      "source": [
        "for i in range(2):\n",
        "  print(i)"
      ],
      "metadata": {
        "colab": {
          "base_uri": "https://localhost:8080/"
        },
        "id": "3WOUnJY4YGUN",
        "outputId": "bf01f65a-7758-4dde-ba26-e7bb97153862"
      },
      "execution_count": 18,
      "outputs": [
        {
          "output_type": "stream",
          "name": "stdout",
          "text": [
            "0\n",
            "1\n"
          ]
        }
      ]
    },
    {
      "cell_type": "code",
      "source": [
        "#example of list comphrension\n",
        "\n",
        "#before that lets see the same exasmple in for loop'"
      ],
      "metadata": {
        "id": "eza_g2EXa4XC"
      },
      "execution_count": null,
      "outputs": []
    },
    {
      "cell_type": "code",
      "source": [
        "my_string=\"gurwinder is yuvaraj fan\"\n",
        "print(my_string)"
      ],
      "metadata": {
        "colab": {
          "base_uri": "https://localhost:8080/"
        },
        "id": "0fDJnY3vbSxg",
        "outputId": "e85be02b-f805-480c-b541-5525c2241f2c"
      },
      "execution_count": 19,
      "outputs": [
        {
          "output_type": "stream",
          "name": "stdout",
          "text": [
            "gurwinder is yuvaraj fan\n"
          ]
        }
      ]
    },
    {
      "cell_type": "code",
      "source": [
        "for i in my_string:\n",
        "  print(i)"
      ],
      "metadata": {
        "colab": {
          "base_uri": "https://localhost:8080/"
        },
        "id": "uOKCtbtfbcsg",
        "outputId": "bcc256db-2025-447b-db10-7cfd1056c6b2"
      },
      "execution_count": 20,
      "outputs": [
        {
          "output_type": "stream",
          "name": "stdout",
          "text": [
            "g\n",
            "u\n",
            "r\n",
            "w\n",
            "i\n",
            "n\n",
            "d\n",
            "e\n",
            "r\n",
            " \n",
            "i\n",
            "s\n",
            " \n",
            "y\n",
            "u\n",
            "v\n",
            "a\n",
            "r\n",
            "a\n",
            "j\n",
            " \n",
            "f\n",
            "a\n",
            "n\n"
          ]
        }
      ]
    },
    {
      "cell_type": "code",
      "source": [
        "#lets see the same example with list comphrension\n",
        "string_comph=[i for i in my_string]\n",
        "print(string_comph)"
      ],
      "metadata": {
        "colab": {
          "base_uri": "https://localhost:8080/"
        },
        "id": "q9a6WiMObfsF",
        "outputId": "5c872645-b087-43cd-f838-08f3e336c783"
      },
      "execution_count": 22,
      "outputs": [
        {
          "output_type": "stream",
          "name": "stdout",
          "text": [
            "['g', 'u', 'r', 'w', 'i', 'n', 'd', 'e', 'r', ' ', 'i', 's', ' ', 'y', 'u', 'v', 'a', 'r', 'a', 'j', ' ', 'f', 'a', 'n']\n"
          ]
        }
      ]
    },
    {
      "cell_type": "code",
      "source": [
        "# we can also use this list comphrension to get a tuple as well\n",
        "#lets see\n"
      ],
      "metadata": {
        "id": "OAZN346Ab1zL"
      },
      "execution_count": null,
      "outputs": []
    },
    {
      "cell_type": "code",
      "source": [
        "my_tuple=('gurwinder',\"meena\",\"reeny\",\"hidupur\")\n",
        "print(my_tuple)"
      ],
      "metadata": {
        "colab": {
          "base_uri": "https://localhost:8080/"
        },
        "id": "w_vcVVuIcDEh",
        "outputId": "b5e4a935-3e87-4bb1-b2f4-2ce84061e06b"
      },
      "execution_count": 23,
      "outputs": [
        {
          "output_type": "stream",
          "name": "stdout",
          "text": [
            "('gurwinder', 'meena', 'reeny', 'hidupur')\n"
          ]
        }
      ]
    },
    {
      "cell_type": "code",
      "source": [
        "for i in my_tuple:\n",
        "  print(i)"
      ],
      "metadata": {
        "colab": {
          "base_uri": "https://localhost:8080/"
        },
        "id": "cQSRyH2ecMKb",
        "outputId": "b8a4ddaf-0fbf-4043-a891-9fdee1538ca8"
      },
      "execution_count": 24,
      "outputs": [
        {
          "output_type": "stream",
          "name": "stdout",
          "text": [
            "gurwinder\n",
            "meena\n",
            "reeny\n",
            "hidupur\n"
          ]
        }
      ]
    },
    {
      "cell_type": "code",
      "source": [
        "type(i)"
      ],
      "metadata": {
        "colab": {
          "base_uri": "https://localhost:8080/"
        },
        "id": "kg3HDc_qcdQ3",
        "outputId": "af80d4c3-0571-4d29-d09b-4c222653bbd2"
      },
      "execution_count": 26,
      "outputs": [
        {
          "output_type": "execute_result",
          "data": {
            "text/plain": [
              "str"
            ]
          },
          "metadata": {},
          "execution_count": 26
        }
      ]
    },
    {
      "cell_type": "code",
      "source": [
        "tuple_com=[i for i in my_tuple]\n",
        "print(tuple_com)"
      ],
      "metadata": {
        "colab": {
          "base_uri": "https://localhost:8080/"
        },
        "id": "jGWFixB7cQwN",
        "outputId": "b92aec53-34e3-47b7-f792-4acad08a84c6"
      },
      "execution_count": 27,
      "outputs": [
        {
          "output_type": "stream",
          "name": "stdout",
          "text": [
            "['gurwinder', 'meena', 'reeny', 'hidupur']\n"
          ]
        }
      ]
    },
    {
      "cell_type": "code",
      "source": [
        "type(tuple_com)"
      ],
      "metadata": {
        "colab": {
          "base_uri": "https://localhost:8080/"
        },
        "id": "CZDjl1-ocsrd",
        "outputId": "412c71a4-5115-47a0-9b1c-7c3c6c4bca88"
      },
      "execution_count": 29,
      "outputs": [
        {
          "output_type": "execute_result",
          "data": {
            "text/plain": [
              "list"
            ]
          },
          "metadata": {},
          "execution_count": 29
        }
      ]
    },
    {
      "cell_type": "code",
      "source": [
        "tuple(i for i in my_tuple)"
      ],
      "metadata": {
        "colab": {
          "base_uri": "https://localhost:8080/"
        },
        "id": "ThKEs_39caGc",
        "outputId": "d7b22840-18ba-49bf-a558-58efc0b041ed"
      },
      "execution_count": 28,
      "outputs": [
        {
          "output_type": "execute_result",
          "data": {
            "text/plain": [
              "('gurwinder', 'meena', 'reeny', 'hidupur')"
            ]
          },
          "metadata": {},
          "execution_count": 28
        }
      ]
    },
    {
      "cell_type": "code",
      "source": [
        "#set comphrensions\n",
        "my_set={('gurwinder',\"canada\"),('meena',\"hindupur\"),(\"harsha\",\"kphb\")}\n",
        "print(my_set)"
      ],
      "metadata": {
        "colab": {
          "base_uri": "https://localhost:8080/"
        },
        "id": "TG50hNY5coYb",
        "outputId": "460b44ae-eba0-475c-88c4-c9c813162779"
      },
      "execution_count": 30,
      "outputs": [
        {
          "output_type": "stream",
          "name": "stdout",
          "text": [
            "{('meena', 'hindupur'), ('gurwinder', 'canada'), ('harsha', 'kphb')}\n"
          ]
        }
      ]
    },
    {
      "cell_type": "code",
      "source": [
        "type(my_set)"
      ],
      "metadata": {
        "colab": {
          "base_uri": "https://localhost:8080/"
        },
        "id": "HCd_gQ5PdUVw",
        "outputId": "a86e1d46-cc43-42d6-d50e-d7b51d56d968"
      },
      "execution_count": 31,
      "outputs": [
        {
          "output_type": "execute_result",
          "data": {
            "text/plain": [
              "set"
            ]
          },
          "metadata": {},
          "execution_count": 31
        }
      ]
    },
    {
      "cell_type": "code",
      "source": [
        "for i in my_set:\n",
        "  print(i)"
      ],
      "metadata": {
        "colab": {
          "base_uri": "https://localhost:8080/"
        },
        "id": "dz-OsygodWZ7",
        "outputId": "4be60ba6-cc13-4af2-d47b-56af0ba75095"
      },
      "execution_count": 32,
      "outputs": [
        {
          "output_type": "stream",
          "name": "stdout",
          "text": [
            "('meena', 'hindupur')\n",
            "('gurwinder', 'canada')\n",
            "('harsha', 'kphb')\n"
          ]
        }
      ]
    },
    {
      "cell_type": "code",
      "source": [
        "set_com=[i for i in my_set]\n",
        "print(set_com)"
      ],
      "metadata": {
        "colab": {
          "base_uri": "https://localhost:8080/"
        },
        "id": "vzuRw2NOdcoy",
        "outputId": "23201c96-50dd-4bce-d649-435d42a90236"
      },
      "execution_count": 34,
      "outputs": [
        {
          "output_type": "stream",
          "name": "stdout",
          "text": [
            "[('meena', 'hindupur'), ('gurwinder', 'canada'), ('harsha', 'kphb')]\n"
          ]
        }
      ]
    },
    {
      "cell_type": "code",
      "source": [
        "#dictionary comphrensions\n"
      ],
      "metadata": {
        "id": "2MGYGFZQdi6X"
      },
      "execution_count": null,
      "outputs": []
    },
    {
      "cell_type": "code",
      "source": [
        "my_dict={'canada':\"ottawa\",\"anantapur\":\"hindupur\",\"telangana\":'hyd'}\n",
        "print(my_dict)"
      ],
      "metadata": {
        "colab": {
          "base_uri": "https://localhost:8080/"
        },
        "id": "uaoZD_e3dyio",
        "outputId": "ef695f6f-2064-431b-9f3b-7314e685f6b0"
      },
      "execution_count": 44,
      "outputs": [
        {
          "output_type": "stream",
          "name": "stdout",
          "text": [
            "{'canada': 'ottawa', 'anantapur': 'hindupur', 'telangana': 'hyd'}\n"
          ]
        }
      ]
    },
    {
      "cell_type": "code",
      "source": [
        "my_dict.keys()"
      ],
      "metadata": {
        "colab": {
          "base_uri": "https://localhost:8080/"
        },
        "id": "2TRzd_xefVLT",
        "outputId": "1e49baed-9ea1-4ad0-ecf9-c512ed065cd3"
      },
      "execution_count": 45,
      "outputs": [
        {
          "output_type": "execute_result",
          "data": {
            "text/plain": [
              "dict_keys(['canada', 'anantapur', 'telangana'])"
            ]
          },
          "metadata": {},
          "execution_count": 45
        }
      ]
    },
    {
      "cell_type": "code",
      "source": [
        "my_dict.values()"
      ],
      "metadata": {
        "colab": {
          "base_uri": "https://localhost:8080/"
        },
        "id": "PGXKFWcnfbcO",
        "outputId": "d0de004b-6ad8-4a65-ee69-c59754e7aa3c"
      },
      "execution_count": 46,
      "outputs": [
        {
          "output_type": "execute_result",
          "data": {
            "text/plain": [
              "dict_values(['ottawa', 'hindupur', 'hyd'])"
            ]
          },
          "metadata": {},
          "execution_count": 46
        }
      ]
    },
    {
      "cell_type": "code",
      "source": [
        "my_dict.items()"
      ],
      "metadata": {
        "colab": {
          "base_uri": "https://localhost:8080/"
        },
        "id": "cD9Jn2cyffg1",
        "outputId": "443efc24-d588-499d-d7e0-c97893e84ab8"
      },
      "execution_count": 47,
      "outputs": [
        {
          "output_type": "execute_result",
          "data": {
            "text/plain": [
              "dict_items([('canada', 'ottawa'), ('anantapur', 'hindupur'), ('telangana', 'hyd')])"
            ]
          },
          "metadata": {},
          "execution_count": 47
        }
      ]
    },
    {
      "cell_type": "code",
      "source": [
        "for i,j in my_dict.items():\n",
        "  print(i,j)"
      ],
      "metadata": {
        "colab": {
          "base_uri": "https://localhost:8080/"
        },
        "id": "FTkzE50MeF4J",
        "outputId": "aa3d016a-b0b5-4146-af0a-f6ba06bddad4"
      },
      "execution_count": 38,
      "outputs": [
        {
          "output_type": "stream",
          "name": "stdout",
          "text": [
            "canada ottawa\n",
            "anantapur hindupur\n",
            "telangana hyd\n"
          ]
        }
      ]
    },
    {
      "cell_type": "code",
      "source": [
        "for city,country in my_dict.items():\n",
        "  print(city,country)"
      ],
      "metadata": {
        "colab": {
          "base_uri": "https://localhost:8080/"
        },
        "id": "GsHlvCwDeJSI",
        "outputId": "3ab6a549-1791-4ed2-fe95-d8cc1babf132"
      },
      "execution_count": 40,
      "outputs": [
        {
          "output_type": "stream",
          "name": "stdout",
          "text": [
            "canada ottawa\n",
            "anantapur hindupur\n",
            "telangana hyd\n"
          ]
        }
      ]
    },
    {
      "cell_type": "code",
      "source": [
        "dict_com={city:country for city,country in my_dict.items()}\n",
        "print(dict_com)"
      ],
      "metadata": {
        "colab": {
          "base_uri": "https://localhost:8080/"
        },
        "id": "IoD-nn3UecSy",
        "outputId": "ed625e4e-9c50-4e19-c4e3-d0cc09394ac7"
      },
      "execution_count": 43,
      "outputs": [
        {
          "output_type": "stream",
          "name": "stdout",
          "text": [
            "{'canada': 'ottawa', 'anantapur': 'hindupur', 'telangana': 'hyd'}\n"
          ]
        }
      ]
    },
    {
      "cell_type": "code",
      "source": [],
      "metadata": {
        "id": "V37WEixMegG9"
      },
      "execution_count": null,
      "outputs": []
    },
    {
      "cell_type": "code",
      "source": [],
      "metadata": {
        "id": "INTM0UmgegKv"
      },
      "execution_count": null,
      "outputs": []
    }
  ]
}