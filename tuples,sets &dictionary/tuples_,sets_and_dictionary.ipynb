{
  "nbformat": 4,
  "nbformat_minor": 0,
  "metadata": {
    "colab": {
      "provenance": []
    },
    "kernelspec": {
      "name": "python3",
      "display_name": "Python 3"
    },
    "language_info": {
      "name": "python"
    }
  },
  "cells": [
    {
      "cell_type": "code",
      "execution_count": null,
      "metadata": {
        "id": "aufP-ZWYMKf3"
      },
      "outputs": [],
      "source": [
        "#tuples are immutables datatypes which cannot be changed once after creation\n",
        "#this is used for the where the imp one which\n",
        "#we should not change\n",
        "#tuples are enclosed in () brackets\n",
        "#tuples are also contain multiple datatypes\n"
      ]
    },
    {
      "cell_type": "code",
      "source": [
        "my_tuple=('1',\"4879\",\"gurwinder\")\n",
        "print(my_tuple)"
      ],
      "metadata": {
        "colab": {
          "base_uri": "https://localhost:8080/"
        },
        "id": "VweKHRDRNV9k",
        "outputId": "4a40cc94-16e2-47dd-e60c-e7254b3ceefa"
      },
      "execution_count": null,
      "outputs": [
        {
          "output_type": "stream",
          "name": "stdout",
          "text": [
            "('1', '4879', 'gurwinder')\n"
          ]
        }
      ]
    },
    {
      "cell_type": "code",
      "source": [
        "type(my_tuple)"
      ],
      "metadata": {
        "colab": {
          "base_uri": "https://localhost:8080/"
        },
        "id": "0lIX4566NKQ7",
        "outputId": "26585f30-c28a-429e-ee04-eb8b5655e3e6"
      },
      "execution_count": null,
      "outputs": [
        {
          "output_type": "execute_result",
          "data": {
            "text/plain": [
              "tuple"
            ]
          },
          "metadata": {},
          "execution_count": 2
        }
      ]
    },
    {
      "cell_type": "code",
      "source": [
        "my_tup=1,2,3,\"meena\"\n",
        "print(my_tup)"
      ],
      "metadata": {
        "colab": {
          "base_uri": "https://localhost:8080/"
        },
        "id": "ysiQ6BXHNlM_",
        "outputId": "d48d8b2a-1cc1-4503-dcdf-568da314b3ca"
      },
      "execution_count": null,
      "outputs": [
        {
          "output_type": "stream",
          "name": "stdout",
          "text": [
            "(1, 2, 3, 'meena')\n"
          ]
        }
      ]
    },
    {
      "cell_type": "code",
      "source": [
        "type(my_tup)"
      ],
      "metadata": {
        "colab": {
          "base_uri": "https://localhost:8080/"
        },
        "id": "AqR_Sy9UNulK",
        "outputId": "e017d853-eb6f-41c1-88b2-347b7929d228"
      },
      "execution_count": null,
      "outputs": [
        {
          "output_type": "execute_result",
          "data": {
            "text/plain": [
              "tuple"
            ]
          },
          "metadata": {},
          "execution_count": 4
        }
      ]
    },
    {
      "cell_type": "code",
      "source": [
        "#tuple indexing\n",
        "#indexing and slicing same here also\n",
        "#thers is no difference"
      ],
      "metadata": {
        "id": "z4HlpERNNwmy"
      },
      "execution_count": null,
      "outputs": []
    },
    {
      "cell_type": "code",
      "source": [
        "my_tuple[1]"
      ],
      "metadata": {
        "colab": {
          "base_uri": "https://localhost:8080/",
          "height": 36
        },
        "id": "Xjs7fEaiOH2z",
        "outputId": "30467733-0536-4f77-f93b-2b637469a1a9"
      },
      "execution_count": null,
      "outputs": [
        {
          "output_type": "execute_result",
          "data": {
            "text/plain": [
              "'4879'"
            ],
            "application/vnd.google.colaboratory.intrinsic+json": {
              "type": "string"
            }
          },
          "metadata": {},
          "execution_count": 5
        }
      ]
    },
    {
      "cell_type": "code",
      "source": [
        "print(my_tuple)"
      ],
      "metadata": {
        "id": "wV5egNASOLcc",
        "colab": {
          "base_uri": "https://localhost:8080/"
        },
        "outputId": "fc471e3d-83fc-4bfc-fc55-f6db6bddf4dc"
      },
      "execution_count": null,
      "outputs": [
        {
          "output_type": "stream",
          "name": "stdout",
          "text": [
            "('1', '4879', 'gurwinder')\n"
          ]
        }
      ]
    },
    {
      "cell_type": "code",
      "source": [
        "#tuple methods"
      ],
      "metadata": {
        "id": "aX9pJWKZOpAO"
      },
      "execution_count": null,
      "outputs": []
    },
    {
      "cell_type": "code",
      "source": [
        "#"
      ],
      "metadata": {
        "id": "g5G6SEdcOpCr"
      },
      "execution_count": null,
      "outputs": []
    },
    {
      "cell_type": "code",
      "source": [
        "# 18dec2023\n",
        "#sets are an unordered collection of unique elements\n",
        "#sets cannot have duplicates\n",
        "#sets are mutable\n",
        "#you can create a non empty set with curley brackets by specifying by a comma"
      ],
      "metadata": {
        "id": "YqoVRmQ4OpE3"
      },
      "execution_count": null,
      "outputs": []
    },
    {
      "cell_type": "code",
      "source": [
        "empty_set=set()"
      ],
      "metadata": {
        "id": "wehedPasOpIO"
      },
      "execution_count": null,
      "outputs": []
    },
    {
      "cell_type": "code",
      "source": [
        "type(empty_set)"
      ],
      "metadata": {
        "colab": {
          "base_uri": "https://localhost:8080/"
        },
        "id": "YtFPvnePskwT",
        "outputId": "8ed274fe-7e67-4626-e020-ad36a406d400"
      },
      "execution_count": null,
      "outputs": [
        {
          "output_type": "execute_result",
          "data": {
            "text/plain": [
              "set"
            ]
          },
          "metadata": {},
          "execution_count": 3
        }
      ]
    },
    {
      "cell_type": "code",
      "source": [
        "non_empty_set={'a',\"b\",4879,\"9784\"}\n",
        "print(non_empty_set)"
      ],
      "metadata": {
        "colab": {
          "base_uri": "https://localhost:8080/"
        },
        "id": "Mimckwx_srDp",
        "outputId": "4cfc29d4-5901-40fe-8393-8abdb31a4ff9"
      },
      "execution_count": null,
      "outputs": [
        {
          "output_type": "stream",
          "name": "stdout",
          "text": [
            "{'b', '9784', 'a', 4879}\n"
          ]
        }
      ]
    },
    {
      "cell_type": "code",
      "source": [
        "type(non_empty_set)"
      ],
      "metadata": {
        "colab": {
          "base_uri": "https://localhost:8080/"
        },
        "id": "V6qpDjPKs4CL",
        "outputId": "1d914b5d-3a69-4807-e1e0-86d393388547"
      },
      "execution_count": null,
      "outputs": [
        {
          "output_type": "execute_result",
          "data": {
            "text/plain": [
              "set"
            ]
          },
          "metadata": {},
          "execution_count": 7
        }
      ]
    },
    {
      "cell_type": "code",
      "source": [
        "#sets wil not contain duplicates"
      ],
      "metadata": {
        "id": "k_UrsfLgtBVS"
      },
      "execution_count": null,
      "outputs": []
    },
    {
      "cell_type": "code",
      "source": [],
      "metadata": {
        "id": "DI93BXq-twvr"
      },
      "execution_count": null,
      "outputs": []
    },
    {
      "cell_type": "code",
      "source": [
        "my_set={'meena',\"meena\",\"gurwinder\",\"canada\",\"canada\"}\n",
        "print(my_set)"
      ],
      "metadata": {
        "colab": {
          "base_uri": "https://localhost:8080/"
        },
        "id": "p9kd-BdjtwzP",
        "outputId": "6cf7c7dc-e615-4df7-9b21-9d6355155b20"
      },
      "execution_count": null,
      "outputs": [
        {
          "output_type": "stream",
          "name": "stdout",
          "text": [
            "{'gurwinder', 'meena', 'canada'}\n"
          ]
        }
      ]
    },
    {
      "cell_type": "code",
      "source": [
        "#lets create one list just example to make you people understand\n"
      ],
      "metadata": {
        "id": "exwHMT40t4wm"
      },
      "execution_count": null,
      "outputs": []
    },
    {
      "cell_type": "code",
      "source": [
        "my_list=['1',\"canada\",\"meena\",\"meena\",\"gurwinder\",\"harsha\",\"harsha\"]\n",
        "print(my_list)"
      ],
      "metadata": {
        "colab": {
          "base_uri": "https://localhost:8080/"
        },
        "id": "Ksk16fKDuB2E",
        "outputId": "75f2f461-4be9-4042-d6fe-256ba805d3f4"
      },
      "execution_count": null,
      "outputs": [
        {
          "output_type": "stream",
          "name": "stdout",
          "text": [
            "['1', 'canada', 'meena', 'meena', 'gurwinder', 'harsha', 'harsha']\n"
          ]
        }
      ]
    },
    {
      "cell_type": "code",
      "source": [
        "#add\n",
        "my_set.add('usa')"
      ],
      "metadata": {
        "id": "Hw5Y12phuLKa"
      },
      "execution_count": null,
      "outputs": []
    },
    {
      "cell_type": "code",
      "source": [
        "print(my_set)"
      ],
      "metadata": {
        "colab": {
          "base_uri": "https://localhost:8080/"
        },
        "id": "iT3Z4S9RukSP",
        "outputId": "9b076edd-ee98-4e77-c056-47a0b1d4f412"
      },
      "execution_count": null,
      "outputs": [
        {
          "output_type": "stream",
          "name": "stdout",
          "text": [
            "{'gurwinder', 'meena', 'usa', 'canada'}\n"
          ]
        }
      ]
    },
    {
      "cell_type": "code",
      "source": [
        "#update\n",
        "my_set.update([4879,'chennai',\"hyd\"])"
      ],
      "metadata": {
        "id": "qsDXbERTumjm"
      },
      "execution_count": null,
      "outputs": []
    },
    {
      "cell_type": "code",
      "source": [
        "print(my_set)"
      ],
      "metadata": {
        "colab": {
          "base_uri": "https://localhost:8080/"
        },
        "id": "h_YmMhvYu3wq",
        "outputId": "2cd61d28-9443-427a-e3db-f045f6bc4bca"
      },
      "execution_count": null,
      "outputs": [
        {
          "output_type": "stream",
          "name": "stdout",
          "text": [
            "{'gurwinder', 'chennai', 'hyd', 'usa', 4879, 'meena', 'canada'}\n"
          ]
        }
      ]
    },
    {
      "cell_type": "code",
      "source": [
        "#remove()\n",
        "#remove to remove an element or item from the set\n",
        "#remove takes element as an argument"
      ],
      "metadata": {
        "id": "mxVUwuLGu8R5"
      },
      "execution_count": null,
      "outputs": []
    },
    {
      "cell_type": "code",
      "source": [
        "print(my_set)"
      ],
      "metadata": {
        "colab": {
          "base_uri": "https://localhost:8080/"
        },
        "id": "f81arJanvNXM",
        "outputId": "4d551c28-9467-41b2-afb9-8008b30eafb6"
      },
      "execution_count": null,
      "outputs": [
        {
          "output_type": "stream",
          "name": "stdout",
          "text": [
            "{'gurwinder', 'chennai', 'hyd', 'usa', 4879, 'meena', 'canada'}\n"
          ]
        }
      ]
    },
    {
      "cell_type": "code",
      "source": [
        "my_set.remove('usa')"
      ],
      "metadata": {
        "id": "ErS0InyEvQV6"
      },
      "execution_count": null,
      "outputs": []
    },
    {
      "cell_type": "code",
      "source": [
        "print(my_set)"
      ],
      "metadata": {
        "colab": {
          "base_uri": "https://localhost:8080/"
        },
        "id": "DdvZ8nKbvUWA",
        "outputId": "65b01b22-9a36-47ca-fba1-0a879a12ab07"
      },
      "execution_count": null,
      "outputs": [
        {
          "output_type": "stream",
          "name": "stdout",
          "text": [
            "{'gurwinder', 'chennai', 'hyd', 4879, 'meena', 'canada'}\n"
          ]
        }
      ]
    },
    {
      "cell_type": "code",
      "source": [
        "#union method\n",
        "#union method returns the union of two sets\n"
      ],
      "metadata": {
        "id": "hr25K5ImvVpF"
      },
      "execution_count": null,
      "outputs": []
    },
    {
      "cell_type": "code",
      "source": [
        "a={1,2,3,4,5}\n",
        "b={4,5,6,7,8}\n",
        "print(a)\n",
        "print(b)"
      ],
      "metadata": {
        "colab": {
          "base_uri": "https://localhost:8080/"
        },
        "id": "R5GgIMAVvdZz",
        "outputId": "291e4ba9-3ff1-4e35-9c13-fc304ddcb77e"
      },
      "execution_count": null,
      "outputs": [
        {
          "output_type": "stream",
          "name": "stdout",
          "text": [
            "{1, 2, 3, 4, 5}\n",
            "{4, 5, 6, 7, 8}\n"
          ]
        }
      ]
    },
    {
      "cell_type": "code",
      "source": [
        "a.union(b)"
      ],
      "metadata": {
        "colab": {
          "base_uri": "https://localhost:8080/"
        },
        "id": "UYZmoA-AvlRm",
        "outputId": "dfc83e6e-a29d-4665-9902-0462add4e854"
      },
      "execution_count": null,
      "outputs": [
        {
          "output_type": "execute_result",
          "data": {
            "text/plain": [
              "{1, 2, 3, 4, 5, 6, 7, 8}"
            ]
          },
          "metadata": {},
          "execution_count": 21
        }
      ]
    },
    {
      "cell_type": "code",
      "source": [
        "a|b"
      ],
      "metadata": {
        "colab": {
          "base_uri": "https://localhost:8080/"
        },
        "id": "LMzpO14Tv_Vx",
        "outputId": "f055a223-958d-40a1-c946-09ebd84ef6ea"
      },
      "execution_count": null,
      "outputs": [
        {
          "output_type": "execute_result",
          "data": {
            "text/plain": [
              "{1, 2, 3, 4, 5, 6, 7, 8}"
            ]
          },
          "metadata": {},
          "execution_count": 22
        }
      ]
    },
    {
      "cell_type": "code",
      "source": [
        "#intersection\n",
        "#it returns the intersection of two sets\n",
        "# & is the intersection operator\n"
      ],
      "metadata": {
        "id": "WjhzA0wOvyvX"
      },
      "execution_count": null,
      "outputs": []
    },
    {
      "cell_type": "code",
      "source": [
        "a.intersection(b)"
      ],
      "metadata": {
        "colab": {
          "base_uri": "https://localhost:8080/"
        },
        "id": "IB-VVOWtwGl_",
        "outputId": "8202be29-e72a-417b-fd95-2ecea12b0ca7"
      },
      "execution_count": null,
      "outputs": [
        {
          "output_type": "execute_result",
          "data": {
            "text/plain": [
              "{4, 5}"
            ]
          },
          "metadata": {},
          "execution_count": 23
        }
      ]
    },
    {
      "cell_type": "code",
      "source": [
        "a&b"
      ],
      "metadata": {
        "colab": {
          "base_uri": "https://localhost:8080/"
        },
        "id": "-ccO8aq_v9JM",
        "outputId": "77202bdd-3ca3-44f2-fccd-6c68961fcd82"
      },
      "execution_count": null,
      "outputs": [
        {
          "output_type": "execute_result",
          "data": {
            "text/plain": [
              "{4, 5}"
            ]
          },
          "metadata": {},
          "execution_count": 24
        }
      ]
    },
    {
      "cell_type": "code",
      "source": [
        "print(a)\n",
        "print(b)"
      ],
      "metadata": {
        "colab": {
          "base_uri": "https://localhost:8080/"
        },
        "id": "uwqjgrh3wc3f",
        "outputId": "8c694cd2-709a-4ad9-9605-9704eea2e970"
      },
      "execution_count": null,
      "outputs": [
        {
          "output_type": "stream",
          "name": "stdout",
          "text": [
            "{1, 2, 3, 4, 5}\n",
            "{4, 5, 6, 7, 8}\n"
          ]
        }
      ]
    },
    {
      "cell_type": "code",
      "source": [],
      "metadata": {
        "id": "1In_NS50weEX"
      },
      "execution_count": null,
      "outputs": []
    },
    {
      "cell_type": "code",
      "source": [
        "#difference method\n",
        "#difference method returns the difference of two methods\n",
        "# difference of set b"
      ],
      "metadata": {
        "id": "5Ao344HKweHt"
      },
      "execution_count": null,
      "outputs": []
    },
    {
      "cell_type": "code",
      "source": [
        "#this will gives the set of elements only in a but should not return the values in b\n",
        "\n",
        "a.difference(b)"
      ],
      "metadata": {
        "colab": {
          "base_uri": "https://localhost:8080/"
        },
        "id": "SsC8OR_ewuwy",
        "outputId": "2a967b00-e3a5-4f2f-f79a-6be7f81689f0"
      },
      "execution_count": null,
      "outputs": [
        {
          "output_type": "execute_result",
          "data": {
            "text/plain": [
              "{1, 2, 3}"
            ]
          },
          "metadata": {},
          "execution_count": 25
        }
      ]
    },
    {
      "cell_type": "code",
      "source": [
        "#a-b\n",
        "a-b"
      ],
      "metadata": {
        "colab": {
          "base_uri": "https://localhost:8080/"
        },
        "id": "mdNWfNyAxLzp",
        "outputId": "528c59f2-1896-47ce-dd64-6aad8e0ef219"
      },
      "execution_count": null,
      "outputs": [
        {
          "output_type": "execute_result",
          "data": {
            "text/plain": [
              "{1, 2, 3}"
            ]
          },
          "metadata": {},
          "execution_count": 29
        }
      ]
    },
    {
      "cell_type": "code",
      "source": [
        "#same here also it returns the elements only in b but should not return the values in a\n",
        "b.difference(a)"
      ],
      "metadata": {
        "colab": {
          "base_uri": "https://localhost:8080/"
        },
        "id": "S2oQ_Co2ww8r",
        "outputId": "bad8cbe3-504d-4ea3-fdbd-0d5b5b002b9d"
      },
      "execution_count": null,
      "outputs": [
        {
          "output_type": "execute_result",
          "data": {
            "text/plain": [
              "{6, 7, 8}"
            ]
          },
          "metadata": {},
          "execution_count": 27
        }
      ]
    },
    {
      "cell_type": "code",
      "source": [
        "b-a"
      ],
      "metadata": {
        "colab": {
          "base_uri": "https://localhost:8080/"
        },
        "id": "P9bSNi6_w4g-",
        "outputId": "aa00a4aa-2bd4-456e-ae57-58c7453ac23f"
      },
      "execution_count": null,
      "outputs": [
        {
          "output_type": "execute_result",
          "data": {
            "text/plain": [
              "{6, 7, 8}"
            ]
          },
          "metadata": {},
          "execution_count": 30
        }
      ]
    },
    {
      "cell_type": "code",
      "source": [
        "#symmentric difference\n",
        "#it will not returns the matching values which in a and b\n",
        "#but it returns the both a and b values"
      ],
      "metadata": {
        "id": "57MiACxuxPiG"
      },
      "execution_count": null,
      "outputs": []
    },
    {
      "cell_type": "code",
      "source": [
        "a.symmetric_difference(b)"
      ],
      "metadata": {
        "colab": {
          "base_uri": "https://localhost:8080/"
        },
        "id": "XXvy_H6RxUTC",
        "outputId": "a048655f-b30a-456d-a1bb-44fdb813aee7"
      },
      "execution_count": null,
      "outputs": [
        {
          "output_type": "execute_result",
          "data": {
            "text/plain": [
              "{1, 2, 3, 6, 7, 8}"
            ]
          },
          "metadata": {},
          "execution_count": 32
        }
      ]
    },
    {
      "cell_type": "code",
      "source": [
        "#dictionaries\n"
      ],
      "metadata": {
        "id": "0XA-XvioxlQU"
      },
      "execution_count": null,
      "outputs": []
    },
    {
      "cell_type": "code",
      "source": [
        "my_dict ={}\n"
      ],
      "metadata": {
        "id": "Nrfczq0bxXK1"
      },
      "execution_count": null,
      "outputs": []
    },
    {
      "cell_type": "code",
      "source": [
        "type(my_dict)"
      ],
      "metadata": {
        "colab": {
          "base_uri": "https://localhost:8080/"
        },
        "id": "sydcBpCSyZcS",
        "outputId": "8c182137-788b-4a04-879b-82097674b946"
      },
      "execution_count": null,
      "outputs": [
        {
          "output_type": "execute_result",
          "data": {
            "text/plain": [
              "dict"
            ]
          },
          "metadata": {},
          "execution_count": 34
        }
      ]
    },
    {
      "cell_type": "code",
      "source": [
        "my_dict={'name':\"meena\",\"place\":\"hindupr\",\"gurwinder\":\"canada\",\"gurwinder\":\"canada\"}\n",
        "print(my_dict)"
      ],
      "metadata": {
        "colab": {
          "base_uri": "https://localhost:8080/"
        },
        "id": "Sza304w4zkov",
        "outputId": "239c62d5-a124-466c-bc9a-5885fd9bd563"
      },
      "execution_count": 1,
      "outputs": [
        {
          "output_type": "stream",
          "name": "stdout",
          "text": [
            "{'name': 'meena', 'place': 'hindupr', 'gurwinder': 'canada'}\n"
          ]
        }
      ]
    },
    {
      "cell_type": "code",
      "source": [
        "#even dictionaries wil not contain duplicates"
      ],
      "metadata": {
        "id": "eg9w99MT0Ij9"
      },
      "execution_count": null,
      "outputs": []
    },
    {
      "cell_type": "code",
      "source": [
        "#dictionary methods\n"
      ],
      "metadata": {
        "id": "Wnm8Dzoc0kEv"
      },
      "execution_count": null,
      "outputs": []
    },
    {
      "cell_type": "code",
      "source": [
        "#keys()\n",
        "my_dict.keys()"
      ],
      "metadata": {
        "colab": {
          "base_uri": "https://localhost:8080/"
        },
        "id": "T6WlC1a-0sT-",
        "outputId": "301772d2-4137-44a9-fcbb-f6d1b37ed5a6"
      },
      "execution_count": null,
      "outputs": [
        {
          "output_type": "execute_result",
          "data": {
            "text/plain": [
              "dict_keys(['name', 'place', 'gurwinder'])"
            ]
          },
          "metadata": {},
          "execution_count": 38
        }
      ]
    },
    {
      "cell_type": "code",
      "source": [
        "#values()\n",
        "my_dict.values()"
      ],
      "metadata": {
        "colab": {
          "base_uri": "https://localhost:8080/"
        },
        "id": "F_34Qs1D09QN",
        "outputId": "81488ca9-d8bb-42c3-aed6-c1f920f4a4c5"
      },
      "execution_count": null,
      "outputs": [
        {
          "output_type": "execute_result",
          "data": {
            "text/plain": [
              "dict_values(['meena', 'hindupr', 'canada'])"
            ]
          },
          "metadata": {},
          "execution_count": 39
        }
      ]
    },
    {
      "cell_type": "code",
      "source": [
        "#items()\n",
        "#this will returns the list of key_value pair\n",
        "my_dict.items()"
      ],
      "metadata": {
        "colab": {
          "base_uri": "https://localhost:8080/"
        },
        "id": "qGw8aW931BkB",
        "outputId": "f6cbb1b1-1c08-428e-8259-e73d2d83a291"
      },
      "execution_count": null,
      "outputs": [
        {
          "output_type": "execute_result",
          "data": {
            "text/plain": [
              "dict_items([('name', 'meena'), ('place', 'hindupr'), ('gurwinder', 'canada')])"
            ]
          },
          "metadata": {},
          "execution_count": 40
        }
      ]
    },
    {
      "cell_type": "code",
      "source": [
        "#get() method\n",
        "#will returns the value if we pass key\n",
        "#if that key is present only it returns if not it wont returns anything\n",
        "my_dict.get('place')"
      ],
      "metadata": {
        "colab": {
          "base_uri": "https://localhost:8080/",
          "height": 36
        },
        "id": "TG0BFtab1Okc",
        "outputId": "5236ca24-f186-4ddb-d8bb-129497bd8b8f"
      },
      "execution_count": null,
      "outputs": [
        {
          "output_type": "execute_result",
          "data": {
            "text/plain": [
              "'hindupr'"
            ],
            "application/vnd.google.colaboratory.intrinsic+json": {
              "type": "string"
            }
          },
          "metadata": {},
          "execution_count": 41
        }
      ]
    },
    {
      "cell_type": "code",
      "source": [
        "my_dict.get('usa')"
      ],
      "metadata": {
        "id": "uyFiqYkQ1X9F"
      },
      "execution_count": null,
      "outputs": []
    },
    {
      "cell_type": "code",
      "source": [
        "#same indexing and slicing also\n",
        "#same here also means\n",
        "#indexing and slicing also same in sets and dictionary\n"
      ],
      "metadata": {
        "id": "b4p_vHpi1aoW"
      },
      "execution_count": null,
      "outputs": []
    },
    {
      "cell_type": "code",
      "source": [
        "# 19dec2023\n",
        "#dictionary methods continuation\n",
        "\n",
        "print(my_dict)"
      ],
      "metadata": {
        "colab": {
          "base_uri": "https://localhost:8080/"
        },
        "id": "gtzCAtrq04nH",
        "outputId": "75aea86b-f084-400b-d0c4-dbbd0b4ae28a"
      },
      "execution_count": 2,
      "outputs": [
        {
          "output_type": "stream",
          "name": "stdout",
          "text": [
            "{'name': 'meena', 'place': 'hindupr', 'gurwinder': 'canada'}\n"
          ]
        }
      ]
    },
    {
      "cell_type": "code",
      "source": [
        "#update\n",
        "my_dict.update({'place':\"hyd\"})"
      ],
      "metadata": {
        "id": "KZ8EteHa0__4"
      },
      "execution_count": 5,
      "outputs": []
    },
    {
      "cell_type": "code",
      "source": [
        "print(my_dict)"
      ],
      "metadata": {
        "colab": {
          "base_uri": "https://localhost:8080/"
        },
        "id": "vPD35IIn1liS",
        "outputId": "bf65109b-1136-4431-9e93-002908e6549a"
      },
      "execution_count": 6,
      "outputs": [
        {
          "output_type": "stream",
          "name": "stdout",
          "text": [
            "{'name': 'meena', 'place': 'hyd', 'gurwinder': 'canada'}\n"
          ]
        }
      ]
    },
    {
      "cell_type": "code",
      "source": [
        "#pop()\n",
        "my_dict.pop('gurwinder')"
      ],
      "metadata": {
        "colab": {
          "base_uri": "https://localhost:8080/",
          "height": 36
        },
        "id": "nDfeJLbg1tu9",
        "outputId": "803e8694-e38a-4d10-8af1-0916ad71012b"
      },
      "execution_count": 9,
      "outputs": [
        {
          "output_type": "execute_result",
          "data": {
            "text/plain": [
              "'canada'"
            ],
            "application/vnd.google.colaboratory.intrinsic+json": {
              "type": "string"
            }
          },
          "metadata": {},
          "execution_count": 9
        }
      ]
    },
    {
      "cell_type": "code",
      "source": [
        "print(my_dict)"
      ],
      "metadata": {
        "colab": {
          "base_uri": "https://localhost:8080/"
        },
        "id": "haKNnyjr2CbF",
        "outputId": "e0f2c587-8ea0-406e-bed6-8b1fd9e9ac9e"
      },
      "execution_count": 10,
      "outputs": [
        {
          "output_type": "stream",
          "name": "stdout",
          "text": [
            "{'name': 'meena', 'place': 'hyd'}\n"
          ]
        }
      ]
    },
    {
      "cell_type": "code",
      "source": [
        "list1=['harsha',\"hyd\",\"canada\"]\n",
        "list2=['delhi',\"telangana\",\"gurwinder\"]\n",
        "\n",
        "\n",
        "print(list1)\n",
        "print(list2)"
      ],
      "metadata": {
        "colab": {
          "base_uri": "https://localhost:8080/"
        },
        "id": "Y12FserG2LaQ",
        "outputId": "07ce202e-f740-4099-82dc-ba037f99c8d9"
      },
      "execution_count": 1,
      "outputs": [
        {
          "output_type": "stream",
          "name": "stdout",
          "text": [
            "['harsha', 'hyd', 'canada']\n",
            "['delhi', 'telangana', 'gurwinder']\n"
          ]
        }
      ]
    },
    {
      "cell_type": "code",
      "source": [
        "my_lists=list(zip(list1,list2))"
      ],
      "metadata": {
        "id": "UDZNkpoz2cyk"
      },
      "execution_count": 2,
      "outputs": []
    },
    {
      "cell_type": "code",
      "source": [
        "my_lists"
      ],
      "metadata": {
        "colab": {
          "base_uri": "https://localhost:8080/"
        },
        "id": "mdCrTreZ2eZc",
        "outputId": "34b255cf-4b87-47bd-8a9d-fbe3d9d6869c"
      },
      "execution_count": 3,
      "outputs": [
        {
          "output_type": "execute_result",
          "data": {
            "text/plain": [
              "[('harsha', 'delhi'), ('hyd', 'telangana'), ('canada', 'gurwinder')]"
            ]
          },
          "metadata": {},
          "execution_count": 3
        }
      ]
    },
    {
      "cell_type": "code",
      "source": [
        "type(my_lists)"
      ],
      "metadata": {
        "colab": {
          "base_uri": "https://localhost:8080/"
        },
        "id": "Lfg_DUy03TRl",
        "outputId": "8484b4d6-c885-45a6-b033-933e20e1d944"
      },
      "execution_count": 5,
      "outputs": [
        {
          "output_type": "execute_result",
          "data": {
            "text/plain": [
              "list"
            ]
          },
          "metadata": {},
          "execution_count": 5
        }
      ]
    },
    {
      "cell_type": "code",
      "source": [
        "dict(my_lists)"
      ],
      "metadata": {
        "colab": {
          "base_uri": "https://localhost:8080/"
        },
        "id": "cpUUduFp2-cB",
        "outputId": "1d93d380-bb94-4d7d-ca67-263b5dfcf968"
      },
      "execution_count": 4,
      "outputs": [
        {
          "output_type": "execute_result",
          "data": {
            "text/plain": [
              "{'harsha': 'delhi', 'hyd': 'telangana', 'canada': 'gurwinder'}"
            ]
          },
          "metadata": {},
          "execution_count": 4
        }
      ]
    },
    {
      "cell_type": "code",
      "source": [
        "type(dict(my_lists))"
      ],
      "metadata": {
        "colab": {
          "base_uri": "https://localhost:8080/"
        },
        "id": "xIQw8rdC3A7J",
        "outputId": "0f5264c7-9160-4bbb-ff1d-31e7959e3d35"
      },
      "execution_count": 6,
      "outputs": [
        {
          "output_type": "execute_result",
          "data": {
            "text/plain": [
              "dict"
            ]
          },
          "metadata": {},
          "execution_count": 6
        }
      ]
    },
    {
      "cell_type": "code",
      "source": [
        "#till now we have completed the tuples sets and dictionary topics"
      ],
      "metadata": {
        "id": "bVT60GVV3aCu"
      },
      "execution_count": null,
      "outputs": []
    }
  ]
}